{
 "cells": [
  {
   "cell_type": "code",
   "execution_count": 1,
   "metadata": {},
   "outputs": [],
   "source": [
    "import math\n",
    "import sys,os\n",
    "import numpy as np\n",
    "import pandas as pd\n",
    "\n",
    "sys.path.append('/Users/Ziqi/Downloads/mgwr/')\n",
    "from gwr.gwr import GWR,GWRResults\n",
    "from gwr.sel_bw import Sel_BW\n",
    "from spglm.family import Gaussian, Poisson, Binomial"
   ]
  },
  {
   "cell_type": "code",
   "execution_count": 2,
   "metadata": {},
   "outputs": [
    {
     "data": {
      "text/html": [
       "<div>\n",
       "<style scoped>\n",
       "    .dataframe tbody tr th:only-of-type {\n",
       "        vertical-align: middle;\n",
       "    }\n",
       "\n",
       "    .dataframe tbody tr th {\n",
       "        vertical-align: top;\n",
       "    }\n",
       "\n",
       "    .dataframe thead th {\n",
       "        text-align: right;\n",
       "    }\n",
       "</style>\n",
       "<table border=\"1\" class=\"dataframe\">\n",
       "  <thead>\n",
       "    <tr style=\"text-align: right;\">\n",
       "      <th></th>\n",
       "      <th>utmX</th>\n",
       "      <th>utmY</th>\n",
       "      <th>value</th>\n",
       "      <th>nbaths</th>\n",
       "      <th>nbeds</th>\n",
       "      <th>area</th>\n",
       "      <th>age</th>\n",
       "    </tr>\n",
       "  </thead>\n",
       "  <tbody>\n",
       "    <tr>\n",
       "      <th>0</th>\n",
       "      <td>379979.957285</td>\n",
       "      <td>3.752562e+06</td>\n",
       "      <td>87.397</td>\n",
       "      <td>2.0</td>\n",
       "      <td>3.0</td>\n",
       "      <td>1311.0</td>\n",
       "      <td>61.0</td>\n",
       "    </tr>\n",
       "    <tr>\n",
       "      <th>1</th>\n",
       "      <td>411210.623578</td>\n",
       "      <td>3.762339e+06</td>\n",
       "      <td>121.211</td>\n",
       "      <td>2.0</td>\n",
       "      <td>4.0</td>\n",
       "      <td>1200.0</td>\n",
       "      <td>62.0</td>\n",
       "    </tr>\n",
       "    <tr>\n",
       "      <th>2</th>\n",
       "      <td>400287.486356</td>\n",
       "      <td>3.743925e+06</td>\n",
       "      <td>76.145</td>\n",
       "      <td>1.0</td>\n",
       "      <td>2.0</td>\n",
       "      <td>724.0</td>\n",
       "      <td>70.0</td>\n",
       "    </tr>\n",
       "    <tr>\n",
       "      <th>3</th>\n",
       "      <td>391029.680899</td>\n",
       "      <td>3.776406e+06</td>\n",
       "      <td>136.320</td>\n",
       "      <td>2.0</td>\n",
       "      <td>3.0</td>\n",
       "      <td>1890.0</td>\n",
       "      <td>54.0</td>\n",
       "    </tr>\n",
       "    <tr>\n",
       "      <th>4</th>\n",
       "      <td>371824.111160</td>\n",
       "      <td>3.750099e+06</td>\n",
       "      <td>100.499</td>\n",
       "      <td>4.0</td>\n",
       "      <td>5.0</td>\n",
       "      <td>2166.0</td>\n",
       "      <td>71.0</td>\n",
       "    </tr>\n",
       "  </tbody>\n",
       "</table>\n",
       "</div>"
      ],
      "text/plain": [
       "            utmX          utmY    value  nbaths  nbeds    area   age\n",
       "0  379979.957285  3.752562e+06   87.397     2.0    3.0  1311.0  61.0\n",
       "1  411210.623578  3.762339e+06  121.211     2.0    4.0  1200.0  62.0\n",
       "2  400287.486356  3.743925e+06   76.145     1.0    2.0   724.0  70.0\n",
       "3  391029.680899  3.776406e+06  136.320     2.0    3.0  1890.0  54.0\n",
       "4  371824.111160  3.750099e+06  100.499     4.0    5.0  2166.0  71.0"
      ]
     },
     "execution_count": 2,
     "metadata": {},
     "output_type": "execute_result"
    }
   ],
   "source": [
    "zillow = pd.read_csv(\"zillow_5k.csv\",sep=',')\n",
    "zillow.head()"
   ]
  },
  {
   "cell_type": "code",
   "execution_count": 3,
   "metadata": {},
   "outputs": [],
   "source": [
    "#Converting things into matrices\n",
    "y = zillow.value.as_matrix().reshape(-1,1)\n",
    "X = zillow.iloc[:,3:].as_matrix()\n",
    "k = zillow.shape[1]\n",
    "u = zillow.utmX\n",
    "v = zillow.utmY\n",
    "n = zillow.shape[0]\n",
    "coords = list(zip(u,v))"
   ]
  },
  {
   "cell_type": "code",
   "execution_count": 4,
   "metadata": {},
   "outputs": [
    {
     "name": "stdout",
     "output_type": "stream",
     "text": [
      "CPU times: user 25.2 s, sys: 1.62 s, total: 26.8 s\n",
      "Wall time: 16.4 s\n"
     ]
    }
   ],
   "source": [
    "%%time\n",
    "bw = 500\n",
    "pysal_Result=GWR(coords,y,X,bw).fit()"
   ]
  },
  {
   "cell_type": "code",
   "execution_count": 5,
   "metadata": {},
   "outputs": [
    {
     "name": "stdout",
     "output_type": "stream",
     "text": [
      "Starting FastGWR with 1 Processors\n",
      "Reading zillow_5k.csv\n",
      "Diagnostic Information:\n",
      "AICc: 62399.20298289509\n",
      "ENP: 132.55823390039848\n",
      "R2: 0.6986625064785045\n",
      "Total Time Elapsed: 3.1845099925994873 seconds\n"
     ]
    }
   ],
   "source": [
    "#Running FastGWR 1 Processor\n",
    "!mpiexec -n 1 python FastGWR.py -data zillow_5k.csv -out fastGWRResults.csv -bw 500"
   ]
  },
  {
   "cell_type": "code",
   "execution_count": 14,
   "metadata": {},
   "outputs": [
    {
     "name": "stdout",
     "output_type": "stream",
     "text": [
      "Starting FastGWR with 2 Processors\n",
      "Reading zillow_5k.csv\n",
      "Diagnostic Information:\n",
      "AICc: 62399.20298289509\n",
      "ENP: 132.55823390039848\n",
      "R2: 0.6986625064785045\n",
      "Total Time Elapsed: 2.063333034515381 seconds\n"
     ]
    }
   ],
   "source": [
    "#Running FastGWR 2 Processors\n",
    "!mpiexec -n 2 python FastGWR.py -data zillow_5k.csv -out fastGWRResults.csv -bw 500"
   ]
  },
  {
   "cell_type": "code",
   "execution_count": 15,
   "metadata": {},
   "outputs": [
    {
     "data": {
      "text/plain": [
       "0.6986624931885266"
      ]
     },
     "execution_count": 15,
     "metadata": {},
     "output_type": "execute_result"
    }
   ],
   "source": [
    "pysal_Result.R2"
   ]
  },
  {
   "cell_type": "code",
   "execution_count": 16,
   "metadata": {},
   "outputs": [
    {
     "data": {
      "text/plain": [
       "62399.20315246711"
      ]
     },
     "execution_count": 16,
     "metadata": {},
     "output_type": "execute_result"
    }
   ],
   "source": [
    "pysal_Result.aicc"
   ]
  },
  {
   "cell_type": "code",
   "execution_count": 17,
   "metadata": {},
   "outputs": [
    {
     "data": {
      "text/plain": [
       "132.55820977588786"
      ]
     },
     "execution_count": 17,
     "metadata": {},
     "output_type": "execute_result"
    }
   ],
   "source": [
    "pysal_Result.tr_S"
   ]
  },
  {
   "cell_type": "code",
   "execution_count": 18,
   "metadata": {},
   "outputs": [
    {
     "data": {
      "text/html": [
       "<div>\n",
       "<style scoped>\n",
       "    .dataframe tbody tr th:only-of-type {\n",
       "        vertical-align: middle;\n",
       "    }\n",
       "\n",
       "    .dataframe tbody tr th {\n",
       "        vertical-align: top;\n",
       "    }\n",
       "\n",
       "    .dataframe thead th {\n",
       "        text-align: right;\n",
       "    }\n",
       "</style>\n",
       "<table border=\"1\" class=\"dataframe\">\n",
       "  <thead>\n",
       "    <tr style=\"text-align: right;\">\n",
       "      <th></th>\n",
       "      <th>index</th>\n",
       "      <th>residual</th>\n",
       "      <th>yhat</th>\n",
       "      <th>influ</th>\n",
       "      <th>b_intercept</th>\n",
       "      <th>b_nbaths</th>\n",
       "      <th>b_nbeds</th>\n",
       "      <th>b_area</th>\n",
       "      <th>b_age</th>\n",
       "      <th>se_intercept</th>\n",
       "      <th>se_nbaths</th>\n",
       "      <th>se_nbeds</th>\n",
       "      <th>se_area</th>\n",
       "      <th>se_age</th>\n",
       "    </tr>\n",
       "  </thead>\n",
       "  <tbody>\n",
       "    <tr>\n",
       "      <th>0</th>\n",
       "      <td>0.0</td>\n",
       "      <td>3.512059</td>\n",
       "      <td>83.884941</td>\n",
       "      <td>0.010853</td>\n",
       "      <td>2.571366</td>\n",
       "      <td>2.978601</td>\n",
       "      <td>5.131743</td>\n",
       "      <td>0.067003</td>\n",
       "      <td>-0.457055</td>\n",
       "      <td>56.558339</td>\n",
       "      <td>18.302385</td>\n",
       "      <td>12.821886</td>\n",
       "      <td>0.030091</td>\n",
       "      <td>0.513125</td>\n",
       "    </tr>\n",
       "    <tr>\n",
       "      <th>1</th>\n",
       "      <td>1.0</td>\n",
       "      <td>72.505992</td>\n",
       "      <td>48.705008</td>\n",
       "      <td>0.018748</td>\n",
       "      <td>25.630784</td>\n",
       "      <td>11.642206</td>\n",
       "      <td>-25.713497</td>\n",
       "      <td>0.145365</td>\n",
       "      <td>-1.157966</td>\n",
       "      <td>55.641476</td>\n",
       "      <td>17.079949</td>\n",
       "      <td>11.298036</td>\n",
       "      <td>0.017929</td>\n",
       "      <td>0.585781</td>\n",
       "    </tr>\n",
       "    <tr>\n",
       "      <th>2</th>\n",
       "      <td>2.0</td>\n",
       "      <td>37.792774</td>\n",
       "      <td>38.352226</td>\n",
       "      <td>0.017085</td>\n",
       "      <td>70.665350</td>\n",
       "      <td>5.548814</td>\n",
       "      <td>-6.551173</td>\n",
       "      <td>0.093067</td>\n",
       "      <td>-1.316290</td>\n",
       "      <td>55.729722</td>\n",
       "      <td>16.806056</td>\n",
       "      <td>11.825770</td>\n",
       "      <td>0.021411</td>\n",
       "      <td>0.610057</td>\n",
       "    </tr>\n",
       "    <tr>\n",
       "      <th>3</th>\n",
       "      <td>3.0</td>\n",
       "      <td>-60.409973</td>\n",
       "      <td>196.729973</td>\n",
       "      <td>0.013437</td>\n",
       "      <td>60.811820</td>\n",
       "      <td>3.897048</td>\n",
       "      <td>-24.768389</td>\n",
       "      <td>0.132632</td>\n",
       "      <td>-0.893417</td>\n",
       "      <td>38.328165</td>\n",
       "      <td>14.550324</td>\n",
       "      <td>10.837542</td>\n",
       "      <td>0.018351</td>\n",
       "      <td>0.348758</td>\n",
       "    </tr>\n",
       "    <tr>\n",
       "      <th>4</th>\n",
       "      <td>4.0</td>\n",
       "      <td>-124.192872</td>\n",
       "      <td>224.691872</td>\n",
       "      <td>0.072594</td>\n",
       "      <td>-33.406079</td>\n",
       "      <td>14.888404</td>\n",
       "      <td>-15.429985</td>\n",
       "      <td>0.171549</td>\n",
       "      <td>-1.350430</td>\n",
       "      <td>59.950465</td>\n",
       "      <td>15.061693</td>\n",
       "      <td>11.331094</td>\n",
       "      <td>0.019703</td>\n",
       "      <td>0.645346</td>\n",
       "    </tr>\n",
       "  </tbody>\n",
       "</table>\n",
       "</div>"
      ],
      "text/plain": [
       "   index    residual        yhat     influ  b_intercept   b_nbaths    b_nbeds  \\\n",
       "0    0.0    3.512059   83.884941  0.010853     2.571366   2.978601   5.131743   \n",
       "1    1.0   72.505992   48.705008  0.018748    25.630784  11.642206 -25.713497   \n",
       "2    2.0   37.792774   38.352226  0.017085    70.665350   5.548814  -6.551173   \n",
       "3    3.0  -60.409973  196.729973  0.013437    60.811820   3.897048 -24.768389   \n",
       "4    4.0 -124.192872  224.691872  0.072594   -33.406079  14.888404 -15.429985   \n",
       "\n",
       "     b_area     b_age  se_intercept  se_nbaths   se_nbeds   se_area    se_age  \n",
       "0  0.067003 -0.457055     56.558339  18.302385  12.821886  0.030091  0.513125  \n",
       "1  0.145365 -1.157966     55.641476  17.079949  11.298036  0.017929  0.585781  \n",
       "2  0.093067 -1.316290     55.729722  16.806056  11.825770  0.021411  0.610057  \n",
       "3  0.132632 -0.893417     38.328165  14.550324  10.837542  0.018351  0.348758  \n",
       "4  0.171549 -1.350430     59.950465  15.061693  11.331094  0.019703  0.645346  "
      ]
     },
     "execution_count": 18,
     "metadata": {},
     "output_type": "execute_result"
    }
   ],
   "source": [
    "fastGWR_result = pd.read_csv(\"fastGWRResults.csv\")\n",
    "fastGWR_result.head()"
   ]
  },
  {
   "cell_type": "code",
   "execution_count": 19,
   "metadata": {},
   "outputs": [
    {
     "data": {
      "text/plain": [
       "True"
      ]
     },
     "execution_count": 19,
     "metadata": {},
     "output_type": "execute_result"
    }
   ],
   "source": [
    "#Validate yhat\n",
    "np.allclose(fastGWR_result.yhat,pysal_Result.predy.reshape(-1),atol=1e-4)"
   ]
  },
  {
   "cell_type": "code",
   "execution_count": 20,
   "metadata": {},
   "outputs": [
    {
     "data": {
      "text/plain": [
       "True"
      ]
     },
     "execution_count": 20,
     "metadata": {},
     "output_type": "execute_result"
    }
   ],
   "source": [
    "#Validate Params\n",
    "np.allclose(np.array(fastGWR_result.iloc[:,4:9]),pysal_Result.params,atol=1e-3)"
   ]
  },
  {
   "cell_type": "code",
   "execution_count": 21,
   "metadata": {},
   "outputs": [
    {
     "data": {
      "text/plain": [
       "True"
      ]
     },
     "execution_count": 21,
     "metadata": {},
     "output_type": "execute_result"
    }
   ],
   "source": [
    "#Validate SEs\n",
    "np.allclose(np.array(fastGWR_result.iloc[:,9:14]),pysal_Result.bse,atol=1e-4)"
   ]
  },
  {
   "cell_type": "code",
   "execution_count": null,
   "metadata": {},
   "outputs": [],
   "source": []
  },
  {
   "cell_type": "code",
   "execution_count": null,
   "metadata": {},
   "outputs": [],
   "source": []
  },
  {
   "cell_type": "code",
   "execution_count": null,
   "metadata": {},
   "outputs": [],
   "source": []
  },
  {
   "cell_type": "code",
   "execution_count": null,
   "metadata": {},
   "outputs": [],
   "source": []
  },
  {
   "cell_type": "code",
   "execution_count": null,
   "metadata": {},
   "outputs": [],
   "source": []
  }
 ],
 "metadata": {
  "kernelspec": {
   "display_name": "Python [conda root]",
   "language": "python",
   "name": "conda-root-py"
  },
  "language_info": {
   "codemirror_mode": {
    "name": "ipython",
    "version": 3
   },
   "file_extension": ".py",
   "mimetype": "text/x-python",
   "name": "python",
   "nbconvert_exporter": "python",
   "pygments_lexer": "ipython3",
   "version": "3.5.4"
  }
 },
 "nbformat": 4,
 "nbformat_minor": 2
}
