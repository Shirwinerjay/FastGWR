{
 "cells": [
  {
   "cell_type": "code",
   "execution_count": 14,
   "metadata": {},
   "outputs": [],
   "source": [
    "import math\n",
    "import sys,os\n",
    "import numpy as np\n",
    "import pandas as pd\n",
    "\n",
    "from mgwr.gwr import GWR,MGWR\n",
    "from mgwr.sel_bw import Sel_BW"
   ]
  },
  {
   "cell_type": "code",
   "execution_count": 15,
   "metadata": {},
   "outputs": [
    {
     "data": {
      "text/html": [
       "<div>\n",
       "<style scoped>\n",
       "    .dataframe tbody tr th:only-of-type {\n",
       "        vertical-align: middle;\n",
       "    }\n",
       "\n",
       "    .dataframe tbody tr th {\n",
       "        vertical-align: top;\n",
       "    }\n",
       "\n",
       "    .dataframe thead th {\n",
       "        text-align: right;\n",
       "    }\n",
       "</style>\n",
       "<table border=\"1\" class=\"dataframe\">\n",
       "  <thead>\n",
       "    <tr style=\"text-align: right;\">\n",
       "      <th></th>\n",
       "      <th>utmX</th>\n",
       "      <th>utmY</th>\n",
       "      <th>value</th>\n",
       "      <th>nbaths</th>\n",
       "      <th>nbeds</th>\n",
       "      <th>area</th>\n",
       "      <th>age</th>\n",
       "    </tr>\n",
       "  </thead>\n",
       "  <tbody>\n",
       "    <tr>\n",
       "      <th>0</th>\n",
       "      <td>374161.333830</td>\n",
       "      <td>3.757568e+06</td>\n",
       "      <td>56.976</td>\n",
       "      <td>1.0</td>\n",
       "      <td>2.0</td>\n",
       "      <td>954.0</td>\n",
       "      <td>71.0</td>\n",
       "    </tr>\n",
       "    <tr>\n",
       "      <th>1</th>\n",
       "      <td>412657.822910</td>\n",
       "      <td>3.761734e+06</td>\n",
       "      <td>157.982</td>\n",
       "      <td>2.0</td>\n",
       "      <td>4.0</td>\n",
       "      <td>1614.0</td>\n",
       "      <td>45.0</td>\n",
       "    </tr>\n",
       "    <tr>\n",
       "      <th>2</th>\n",
       "      <td>391600.475640</td>\n",
       "      <td>3.782212e+06</td>\n",
       "      <td>512.612</td>\n",
       "      <td>4.0</td>\n",
       "      <td>4.0</td>\n",
       "      <td>2962.0</td>\n",
       "      <td>54.0</td>\n",
       "    </tr>\n",
       "    <tr>\n",
       "      <th>3</th>\n",
       "      <td>375056.064681</td>\n",
       "      <td>3.748579e+06</td>\n",
       "      <td>111.437</td>\n",
       "      <td>2.0</td>\n",
       "      <td>3.0</td>\n",
       "      <td>1292.0</td>\n",
       "      <td>65.0</td>\n",
       "    </tr>\n",
       "    <tr>\n",
       "      <th>4</th>\n",
       "      <td>388693.693038</td>\n",
       "      <td>3.779865e+06</td>\n",
       "      <td>128.327</td>\n",
       "      <td>1.0</td>\n",
       "      <td>3.0</td>\n",
       "      <td>1169.0</td>\n",
       "      <td>78.0</td>\n",
       "    </tr>\n",
       "  </tbody>\n",
       "</table>\n",
       "</div>"
      ],
      "text/plain": [
       "            utmX          utmY    value  nbaths  nbeds    area   age\n",
       "0  374161.333830  3.757568e+06   56.976     1.0    2.0   954.0  71.0\n",
       "1  412657.822910  3.761734e+06  157.982     2.0    4.0  1614.0  45.0\n",
       "2  391600.475640  3.782212e+06  512.612     4.0    4.0  2962.0  54.0\n",
       "3  375056.064681  3.748579e+06  111.437     2.0    3.0  1292.0  65.0\n",
       "4  388693.693038  3.779865e+06  128.327     1.0    3.0  1169.0  78.0"
      ]
     },
     "execution_count": 15,
     "metadata": {},
     "output_type": "execute_result"
    }
   ],
   "source": [
    "zillow = pd.read_csv(\"Zillow-test-dataset/zillow_1k.csv\",sep=',')\n",
    "zillow.head()"
   ]
  },
  {
   "cell_type": "code",
   "execution_count": 16,
   "metadata": {},
   "outputs": [],
   "source": [
    "#Converting things into matrices\n",
    "y = zillow.value.values.reshape(-1,1)\n",
    "X = zillow.iloc[:,3:].values\n",
    "k = zillow.shape[1]\n",
    "u = zillow.utmX\n",
    "v = zillow.utmY\n",
    "n = zillow.shape[0]\n",
    "coords = np.array(list(zip(u,v)))"
   ]
  },
  {
   "cell_type": "code",
   "execution_count": 17,
   "metadata": {},
   "outputs": [],
   "source": [
    "X = (X - np.mean(X,axis=0))/np.std(X, axis=0)\n",
    "y = (y - np.mean(y,axis=0))/np.std(y, axis=0)"
   ]
  },
  {
   "cell_type": "markdown",
   "metadata": {},
   "source": [
    "### `mgwr`"
   ]
  },
  {
   "cell_type": "code",
   "execution_count": 18,
   "metadata": {},
   "outputs": [
    {
     "data": {
      "application/vnd.jupyter.widget-view+json": {
       "model_id": "e00bf35d0da5470b99c272b23f5b5982",
       "version_major": 2,
       "version_minor": 0
      },
      "text/plain": [
       "HBox(children=(FloatProgress(value=0.0, description='Backfitting', max=200.0, style=ProgressStyle(description_…"
      ]
     },
     "metadata": {},
     "output_type": "display_data"
    },
    {
     "name": "stdout",
     "output_type": "stream",
     "text": [
      "Current iteration: 1 ,SOC: 0.0054557\n",
      "Bandwidths: 133.0, 52.0, 116.0, 82.0, 50.0\n",
      "Current iteration: 2 ,SOC: 0.0044876\n",
      "Bandwidths: 158.0, 105.0, 120.0, 55.0, 50.0\n",
      "Current iteration: 3 ,SOC: 0.0026065\n",
      "Bandwidths: 182.0, 127.0, 122.0, 55.0, 43.0\n",
      "Current iteration: 4 ,SOC: 0.0022962\n",
      "Bandwidths: 202.0, 195.0, 122.0, 55.0, 43.0\n",
      "Current iteration: 5 ,SOC: 0.0016683\n",
      "Bandwidths: 202.0, 285.0, 125.0, 55.0, 43.0\n",
      "Current iteration: 6 ,SOC: 0.0010319\n",
      "Bandwidths: 202.0, 365.0, 125.0, 55.0, 43.0\n",
      "Current iteration: 7 ,SOC: 0.0013286\n",
      "Bandwidths: 202.0, 999.0, 125.0, 55.0, 43.0\n",
      "Current iteration: 8 ,SOC: 0.0004091\n",
      "Bandwidths: 202.0, 999.0, 125.0, 55.0, 43.0\n",
      "Current iteration: 9 ,SOC: 0.0001911\n",
      "Bandwidths: 202.0, 999.0, 125.0, 55.0, 43.0\n",
      "Current iteration: 10 ,SOC: 0.0001056\n",
      "Bandwidths: 202.0, 999.0, 125.0, 55.0, 43.0\n",
      "Current iteration: 11 ,SOC: 6.57e-05\n",
      "Bandwidths: 202.0, 999.0, 125.0, 55.0, 43.0\n",
      "Current iteration: 12 ,SOC: 4.4e-05\n",
      "Bandwidths: 202.0, 999.0, 125.0, 55.0, 43.0\n",
      "Current iteration: 13 ,SOC: 3.1e-05\n",
      "Bandwidths: 202.0, 999.0, 125.0, 55.0, 43.0\n",
      "Current iteration: 14 ,SOC: 2.25e-05\n",
      "Bandwidths: 202.0, 999.0, 125.0, 55.0, 43.0\n",
      "Current iteration: 15 ,SOC: 1.66e-05\n",
      "Bandwidths: 202.0, 999.0, 125.0, 55.0, 43.0\n",
      "Current iteration: 16 ,SOC: 1.23e-05\n",
      "Bandwidths: 202.0, 999.0, 125.0, 55.0, 43.0\n",
      "Current iteration: 17 ,SOC: 9.1e-06\n",
      "Bandwidths: 202.0, 999.0, 125.0, 55.0, 43.0\n",
      "Optimal Bandwidths: [202. 999. 125.  55.  43.]\n"
     ]
    },
    {
     "data": {
      "application/vnd.jupyter.widget-view+json": {
       "model_id": "edbd356a01e04b05911124ea0700109e",
       "version_major": 2,
       "version_minor": 0
      },
      "text/plain": [
       "HBox(children=(FloatProgress(value=0.0, description='Inference', max=1.0, style=ProgressStyle(description_widt…"
      ]
     },
     "metadata": {},
     "output_type": "display_data"
    },
    {
     "name": "stdout",
     "output_type": "stream",
     "text": [
      "\n",
      "CPU times: user 6min 35s, sys: 4.31 s, total: 6min 39s\n",
      "Wall time: 1min 40s\n"
     ]
    }
   ],
   "source": [
    "%%time\n",
    "#Bandwidth searching\n",
    "selector = Sel_BW(coords,y,X,multi=True)\n",
    "bws = selector.search(verbose=True)\n",
    "print(\"Optimal Bandwidths:\",bws)\n",
    "\n",
    "#Fitting the model with optimal bandwidth\n",
    "pysal_result_mgwr=MGWR(coords,y,X,selector=selector).fit()"
   ]
  },
  {
   "cell_type": "code",
   "execution_count": 27,
   "metadata": {},
   "outputs": [
    {
     "data": {
      "text/plain": [
       "110.0"
      ]
     },
     "execution_count": 27,
     "metadata": {},
     "output_type": "execute_result"
    }
   ],
   "source": [
    "MGWR(coords,y,X,selector=selector).bw_init"
   ]
  },
  {
   "cell_type": "markdown",
   "metadata": {},
   "source": [
    "### FastGWR"
   ]
  },
  {
   "cell_type": "code",
   "execution_count": null,
   "metadata": {},
   "outputs": [
    {
     "name": "stdout",
     "output_type": "stream",
     "text": [
      "------------------------------------------------------------\n",
      "Starting FastGWR with 4 Processors\n",
      "Spatial Kernel: Adaptive Bisquare\n",
      "Data Input Path: Zillow-test-dataset/zillow_1k.csv\n",
      "Output Result Path: results_adap.csv\n",
      "Constant: True\n",
      "MGWR Backfitting...\n",
      "Data are standardized\n",
      "Initialization Done...\n",
      "Iter: 1 SOC: 5.46e-03\n",
      "bws: [133.0, 52.0, 116.0, 82.0, 50.0]\n",
      "Iter: 2 SOC: 4.49e-03\n",
      "bws: [158.0, 105.0, 120.0, 55.0, 50.0]\n",
      "Iter: 3 SOC: 2.61e-03\n",
      "bws: [182.0, 127.0, 122.0, 55.0, 43.0]\n"
     ]
    }
   ],
   "source": [
    "#Running FastGWR 4 Processor\n",
    "!fastgwr run -np 4 -data Zillow-test-dataset/zillow_1k.csv -out results_mgwr.csv -adaptive -constant -mgwr\n"
   ]
  },
  {
   "cell_type": "markdown",
   "metadata": {},
   "source": [
    "### Results validation"
   ]
  },
  {
   "cell_type": "code",
   "execution_count": 25,
   "metadata": {},
   "outputs": [
    {
     "name": "stdout",
     "output_type": "stream",
     "text": [
      "MGWR pysal AICc -  1679.0150747382786\n",
      "MGWR pysal R2 -  0.7660681409024748\n"
     ]
    }
   ],
   "source": [
    "print(\"MGWR pysal AICc - \", pysal_result_mgwr.aicc)\n",
    "print(\"MGWR pysal R2 - \",pysal_result_mgwr.R2)"
   ]
  },
  {
   "cell_type": "code",
   "execution_count": null,
   "metadata": {},
   "outputs": [],
   "source": [
    "fastGWR_result_mgwr = pd.read_csv(\"results_mgwr.csv\")\n",
    "fastGWR_result_mgwr.head()"
   ]
  },
  {
   "cell_type": "code",
   "execution_count": null,
   "metadata": {},
   "outputs": [],
   "source": [
    "#Validate model residual\n",
    "print(np.allclose(fastGWR_result_mgwr.residual,\n",
    "                  pysal_result_mgwr.resid_response.reshape(-1)))\n"
   ]
  },
  {
   "cell_type": "code",
   "execution_count": null,
   "metadata": {},
   "outputs": [],
   "source": [
    "#Validate parameter estimates\n",
    "print(np.allclose(np.array(fastGWR_result_mgwr.iloc[:,3:8]),\n",
    "                  pysal_result_mgwr.params))\n",
    "\n"
   ]
  },
  {
   "cell_type": "code",
   "execution_count": null,
   "metadata": {},
   "outputs": [],
   "source": [
    "#Validate parameter estimates standard errors\n",
    "print(np.allclose(np.array(fastGWR_result_mgwr.iloc[:,8:13]),\n",
    "                  pysal_result_mgwr.bse))\n"
   ]
  },
  {
   "cell_type": "code",
   "execution_count": null,
   "metadata": {},
   "outputs": [],
   "source": []
  },
  {
   "cell_type": "code",
   "execution_count": null,
   "metadata": {},
   "outputs": [],
   "source": []
  }
 ],
 "metadata": {
  "kernelspec": {
   "display_name": "Python 3",
   "language": "python",
   "name": "python3"
  },
  "language_info": {
   "codemirror_mode": {
    "name": "ipython",
    "version": 3
   },
   "file_extension": ".py",
   "mimetype": "text/x-python",
   "name": "python",
   "nbconvert_exporter": "python",
   "pygments_lexer": "ipython3",
   "version": "3.7.6"
  }
 },
 "nbformat": 4,
 "nbformat_minor": 2
}
