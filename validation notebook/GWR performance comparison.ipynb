{
 "cells": [
  {
   "cell_type": "code",
   "execution_count": 1,
   "metadata": {},
   "outputs": [],
   "source": [
    "import math\n",
    "import sys,os\n",
    "import numpy as np\n",
    "import pandas as pd\n",
    "\n",
    "from mgwr.gwr import GWR,GWRResults\n",
    "from mgwr.sel_bw import Sel_BW\n",
    "\n",
    "import multiprocessing as mp"
   ]
  },
  {
   "cell_type": "markdown",
   "metadata": {},
   "source": [
    "Performance for `mgwr` 1 processor"
   ]
  },
  {
   "cell_type": "code",
   "execution_count": 2,
   "metadata": {},
   "outputs": [],
   "source": [
    "pool1=mp.Pool(1)"
   ]
  },
  {
   "cell_type": "code",
   "execution_count": 3,
   "metadata": {
    "scrolled": true
   },
   "outputs": [
    {
     "name": "stdout",
     "output_type": "stream",
     "text": [
      "Bandwidth:  3851.0 , score:  126339.88\n",
      "Bandwidth:  6199.0 , score:  126705.24\n",
      "Bandwidth:  2399.0 , score:  125925.83\n",
      "Bandwidth:  1502.0 , score:  125427.92\n",
      "Bandwidth:  947.0 , score:  125037.69\n",
      "Bandwidth:  605.0 , score:  124739.76\n",
      "Bandwidth:  393.0 , score:  124520.35\n",
      "Bandwidth:  262.0 , score:  124428.93\n",
      "Bandwidth:  181.0 , score:  124364.30\n",
      "Bandwidth:  131.0 , score:  124363.81\n",
      "Bandwidth:  100.0 , score:  124407.59\n",
      "Bandwidth:  150.0 , score:  124370.05\n",
      "Bandwidth:  119.0 , score:  124372.30\n",
      "Bandwidth:  138.0 , score:  124371.04\n",
      "Bandwidth:  126.0 , score:  124372.19\n",
      "Bandwidth:  133.0 , score:  124362.30\n",
      "Bandwidth:  135.0 , score:  124366.53\n",
      "Optimal Bandwidth: 133.0\n",
      "CPU times: user 1.51 s, sys: 220 ms, total: 1.73 s\n",
      "Wall time: 2min 3s\n"
     ]
    }
   ],
   "source": [
    "%%time\n",
    "zillow = pd.read_csv(\"https://raw.github.com/Ziqi-Li/FastGWR/master/Zillow-test-dataset/zillow_10k.csv\",sep=',')\n",
    "y = zillow.value.values.reshape(-1,1)\n",
    "X = zillow.iloc[:,3:].values\n",
    "k = zillow.shape[1]\n",
    "u = zillow.utmX\n",
    "v = zillow.utmY\n",
    "n = zillow.shape[0]\n",
    "coords = np.array(list(zip(u,v)))\n",
    "\n",
    "#Bandwidth searching\n",
    "opt_bw_adap = Sel_BW(coords,y,X).search(verbose=True,pool=pool1)\n",
    "print(\"Optimal Bandwidth:\",opt_bw_adap)\n",
    "\n",
    "#Fitting the model with optimal bandwidth\n",
    "pysal_result_adap=GWR(coords,y,X,opt_bw_adap).fit(pool=pool1)\n",
    "\n",
    "pool1.close() \n",
    "pool1.join()"
   ]
  },
  {
   "cell_type": "markdown",
   "metadata": {},
   "source": [
    "Performance for `mgwr` 4 processors"
   ]
  },
  {
   "cell_type": "code",
   "execution_count": 4,
   "metadata": {},
   "outputs": [],
   "source": [
    "pool4=mp.Pool(4)"
   ]
  },
  {
   "cell_type": "code",
   "execution_count": 5,
   "metadata": {},
   "outputs": [
    {
     "name": "stdout",
     "output_type": "stream",
     "text": [
      "Bandwidth:  3851.0 , score:  126339.88\n",
      "Bandwidth:  6199.0 , score:  126705.24\n",
      "Bandwidth:  2399.0 , score:  125925.83\n",
      "Bandwidth:  1502.0 , score:  125427.92\n",
      "Bandwidth:  947.0 , score:  125037.69\n",
      "Bandwidth:  605.0 , score:  124739.76\n",
      "Bandwidth:  393.0 , score:  124520.35\n",
      "Bandwidth:  262.0 , score:  124428.93\n",
      "Bandwidth:  181.0 , score:  124364.30\n",
      "Bandwidth:  131.0 , score:  124363.81\n",
      "Bandwidth:  100.0 , score:  124407.59\n",
      "Bandwidth:  150.0 , score:  124370.05\n",
      "Bandwidth:  119.0 , score:  124372.30\n",
      "Bandwidth:  138.0 , score:  124371.04\n",
      "Bandwidth:  126.0 , score:  124372.19\n",
      "Bandwidth:  133.0 , score:  124362.30\n",
      "Bandwidth:  135.0 , score:  124366.53\n",
      "Optimal Bandwidth: 133.0\n",
      "CPU times: user 1.64 s, sys: 202 ms, total: 1.84 s\n",
      "Wall time: 58.2 s\n"
     ]
    }
   ],
   "source": [
    "%%time\n",
    "zillow = pd.read_csv(\"https://raw.github.com/Ziqi-Li/FastGWR/master/Zillow-test-dataset/zillow_10k.csv\",sep=',')\n",
    "y = zillow.value.values.reshape(-1,1)\n",
    "X = zillow.iloc[:,3:].values\n",
    "k = zillow.shape[1]\n",
    "u = zillow.utmX\n",
    "v = zillow.utmY\n",
    "n = zillow.shape[0]\n",
    "coords = np.array(list(zip(u,v)))\n",
    "\n",
    "#Bandwidth searching\n",
    "opt_bw_adap = Sel_BW(coords,y,X).search(verbose=True,pool=pool4)\n",
    "print(\"Optimal Bandwidth:\",opt_bw_adap)\n",
    "\n",
    "#Fitting the model with optimal bandwidth\n",
    "pysal_result_adap=GWR(coords,y,X,opt_bw_adap).fit(pool=pool4)\n",
    "\n",
    "pool4.close() \n",
    "pool4.join()"
   ]
  },
  {
   "cell_type": "markdown",
   "metadata": {},
   "source": [
    "Performance for `fastgwr` with 1 processor"
   ]
  },
  {
   "cell_type": "code",
   "execution_count": 9,
   "metadata": {},
   "outputs": [
    {
     "name": "stdout",
     "output_type": "stream",
     "text": [
      "------------------------------------------------------------\n",
      "Starting FastGWR with 1 Processors\n",
      "Spatial Kernel: Adaptive Bisquare\n",
      "Data Input Path: https://raw.github.com/Ziqi-Li/FastGWR/master/Zillow-test-dataset/zillow_10k.csv\n",
      "Output Result Path: fastgwr_rslt.csv\n",
      "Constant: True\n",
      "Optimal Bandwidth Searching...\n",
      "Range: 50 10000\n",
      "BW, AICc 3851.0 126339.87899661277\n",
      "BW, AICc 6199.0 126705.23979092116\n",
      "BW, AICc 2399.0 125925.82527613014\n",
      "BW, AICc 1502.0 125427.92325472599\n",
      "BW, AICc 947.0 125037.68817099821\n",
      "BW, AICc 605.0 124739.75830194354\n",
      "BW, AICc 393.0 124520.34565022592\n",
      "BW, AICc 262.0 124428.9317194715\n",
      "BW, AICc 181.0 124364.29561228212\n",
      "BW, AICc 131.0 124363.80654387812\n",
      "BW, AICc 100.0 124407.59308605331\n",
      "BW, AICc 150.0 124370.0543289896\n",
      "BW, AICc 119.0 124372.29664401685\n",
      "BW, AICc 138.0 124371.03820888628\n",
      "BW, AICc 126.0 124372.1873490212\n",
      "BW, AICc 133.0 124362.29838275076\n",
      "BW, AICc 135.0 124366.53322823482\n",
      "Fitting GWR Using Bandwidth: 133.0\n",
      "Diagnostic Information:\n",
      "AICc: 124362.29838275074\n",
      "ENP: 960.6325269685358\n",
      "R2: 0.7398977384738936\n",
      "Total Time Elapsed: 85.12 seconds\n",
      "------------------------------------------------------------\n"
     ]
    }
   ],
   "source": [
    "!fastgwr run -np 1 -data https://raw.github.com/Ziqi-Li/FastGWR/master/Zillow-test-dataset/zillow_10k.csv -adaptive -constant"
   ]
  },
  {
   "cell_type": "markdown",
   "metadata": {},
   "source": [
    "Performance for `fastgwr` with 4 processors"
   ]
  },
  {
   "cell_type": "code",
   "execution_count": 8,
   "metadata": {},
   "outputs": [
    {
     "name": "stdout",
     "output_type": "stream",
     "text": [
      "------------------------------------------------------------\n",
      "Starting FastGWR with 4 Processors\n",
      "Spatial Kernel: Adaptive Bisquare\n",
      "Data Input Path: https://raw.github.com/Ziqi-Li/FastGWR/master/Zillow-test-dataset/zillow_10k.csv\n",
      "Output Result Path: fastgwr_rslt.csv\n",
      "Constant: True\n",
      "Optimal Bandwidth Searching...\n",
      "Range: 42 10000\n",
      "BW, AICc 3846.0 126339.02457454418\n",
      "BW, AICc 6196.0 126704.94699276134\n",
      "BW, AICc 2393.0 125923.31457046745\n",
      "BW, AICc 1495.0 125423.44339317865\n",
      "BW, AICc 940.0 125027.8401853691\n",
      "BW, AICc 597.0 124733.26011517092\n",
      "BW, AICc 385.0 124514.8087189569\n",
      "BW, AICc 254.0 124424.28961254488\n",
      "BW, AICc 173.0 124363.83235288023\n",
      "BW, AICc 123.0 124375.15069197101\n",
      "BW, AICc 204.0 124381.51618273534\n",
      "BW, AICc 154.0 124369.10174591297\n",
      "BW, AICc 185.0 124365.38692500404\n",
      "BW, AICc 166.0 124362.5125985145\n",
      "BW, AICc 161.0 124358.04953129587\n",
      "BW, AICc 159.0 124359.3406550296\n",
      "BW, AICc 163.0 124360.01172974773\n",
      "Fitting GWR Using Bandwidth: 161.0\n",
      "Diagnostic Information:\n",
      "AICc: 124358.04953129587\n",
      "ENP: 802.1653280025391\n",
      "R2: 0.7299026988354637\n",
      "Total Time Elapsed: 42.17 seconds\n",
      "------------------------------------------------------------\n"
     ]
    }
   ],
   "source": [
    "!fastgwr run -np 4 -data https://raw.github.com/Ziqi-Li/FastGWR/master/Zillow-test-dataset/zillow_10k.csv -adaptive -constant"
   ]
  },
  {
   "cell_type": "code",
   "execution_count": null,
   "metadata": {},
   "outputs": [],
   "source": []
  }
 ],
 "metadata": {
  "kernelspec": {
   "display_name": "Python 3",
   "language": "python",
   "name": "python3"
  },
  "language_info": {
   "codemirror_mode": {
    "name": "ipython",
    "version": 3
   },
   "file_extension": ".py",
   "mimetype": "text/x-python",
   "name": "python",
   "nbconvert_exporter": "python",
   "pygments_lexer": "ipython3",
   "version": "3.7.6"
  }
 },
 "nbformat": 4,
 "nbformat_minor": 2
}
