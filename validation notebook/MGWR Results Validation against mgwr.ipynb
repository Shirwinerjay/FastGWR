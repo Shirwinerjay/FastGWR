{
 "cells": [
  {
   "cell_type": "code",
   "execution_count": 8,
   "metadata": {},
   "outputs": [],
   "source": [
    "import math\n",
    "import sys,os\n",
    "import numpy as np\n",
    "import pandas as pd\n",
    "\n",
    "from mgwr.gwr import GWR,MGWR\n",
    "from mgwr.sel_bw import Sel_BW"
   ]
  },
  {
   "cell_type": "code",
   "execution_count": 9,
   "metadata": {},
   "outputs": [
    {
     "data": {
      "text/html": [
       "<div>\n",
       "<style scoped>\n",
       "    .dataframe tbody tr th:only-of-type {\n",
       "        vertical-align: middle;\n",
       "    }\n",
       "\n",
       "    .dataframe tbody tr th {\n",
       "        vertical-align: top;\n",
       "    }\n",
       "\n",
       "    .dataframe thead th {\n",
       "        text-align: right;\n",
       "    }\n",
       "</style>\n",
       "<table border=\"1\" class=\"dataframe\">\n",
       "  <thead>\n",
       "    <tr style=\"text-align: right;\">\n",
       "      <th></th>\n",
       "      <th>utmX</th>\n",
       "      <th>utmY</th>\n",
       "      <th>value</th>\n",
       "      <th>nbaths</th>\n",
       "      <th>nbeds</th>\n",
       "      <th>area</th>\n",
       "      <th>age</th>\n",
       "    </tr>\n",
       "  </thead>\n",
       "  <tbody>\n",
       "    <tr>\n",
       "      <th>0</th>\n",
       "      <td>374161.333830</td>\n",
       "      <td>3.757568e+06</td>\n",
       "      <td>56.976</td>\n",
       "      <td>1.0</td>\n",
       "      <td>2.0</td>\n",
       "      <td>954.0</td>\n",
       "      <td>71.0</td>\n",
       "    </tr>\n",
       "    <tr>\n",
       "      <th>1</th>\n",
       "      <td>412657.822910</td>\n",
       "      <td>3.761734e+06</td>\n",
       "      <td>157.982</td>\n",
       "      <td>2.0</td>\n",
       "      <td>4.0</td>\n",
       "      <td>1614.0</td>\n",
       "      <td>45.0</td>\n",
       "    </tr>\n",
       "    <tr>\n",
       "      <th>2</th>\n",
       "      <td>391600.475640</td>\n",
       "      <td>3.782212e+06</td>\n",
       "      <td>512.612</td>\n",
       "      <td>4.0</td>\n",
       "      <td>4.0</td>\n",
       "      <td>2962.0</td>\n",
       "      <td>54.0</td>\n",
       "    </tr>\n",
       "    <tr>\n",
       "      <th>3</th>\n",
       "      <td>375056.064681</td>\n",
       "      <td>3.748579e+06</td>\n",
       "      <td>111.437</td>\n",
       "      <td>2.0</td>\n",
       "      <td>3.0</td>\n",
       "      <td>1292.0</td>\n",
       "      <td>65.0</td>\n",
       "    </tr>\n",
       "    <tr>\n",
       "      <th>4</th>\n",
       "      <td>388693.693038</td>\n",
       "      <td>3.779865e+06</td>\n",
       "      <td>128.327</td>\n",
       "      <td>1.0</td>\n",
       "      <td>3.0</td>\n",
       "      <td>1169.0</td>\n",
       "      <td>78.0</td>\n",
       "    </tr>\n",
       "  </tbody>\n",
       "</table>\n",
       "</div>"
      ],
      "text/plain": [
       "            utmX          utmY    value  nbaths  nbeds    area   age\n",
       "0  374161.333830  3.757568e+06   56.976     1.0    2.0   954.0  71.0\n",
       "1  412657.822910  3.761734e+06  157.982     2.0    4.0  1614.0  45.0\n",
       "2  391600.475640  3.782212e+06  512.612     4.0    4.0  2962.0  54.0\n",
       "3  375056.064681  3.748579e+06  111.437     2.0    3.0  1292.0  65.0\n",
       "4  388693.693038  3.779865e+06  128.327     1.0    3.0  1169.0  78.0"
      ]
     },
     "execution_count": 9,
     "metadata": {},
     "output_type": "execute_result"
    }
   ],
   "source": [
    "zillow = pd.read_csv(\"https://raw.github.com/Ziqi-Li/FastGWR/master/Zillow-test-dataset/zillow_1k.csv\",sep=',')\n",
    "zillow.head()"
   ]
  },
  {
   "cell_type": "code",
   "execution_count": 10,
   "metadata": {},
   "outputs": [],
   "source": [
    "#Converting things into matrices\n",
    "y = zillow.value.values.reshape(-1,1)\n",
    "X = zillow.iloc[:,3:].values\n",
    "k = zillow.shape[1]\n",
    "u = zillow.utmX\n",
    "v = zillow.utmY\n",
    "n = zillow.shape[0]\n",
    "coords = np.array(list(zip(u,v)))"
   ]
  },
  {
   "cell_type": "code",
   "execution_count": 11,
   "metadata": {},
   "outputs": [],
   "source": [
    "X = (X - np.mean(X,axis=0))/np.std(X, axis=0)\n",
    "y = (y - np.mean(y,axis=0))/np.std(y, axis=0)"
   ]
  },
  {
   "cell_type": "markdown",
   "metadata": {},
   "source": [
    "### `mgwr`"
   ]
  },
  {
   "cell_type": "code",
   "execution_count": 12,
   "metadata": {},
   "outputs": [
    {
     "data": {
      "application/vnd.jupyter.widget-view+json": {
       "model_id": "177d8b21c0ee4181a69cd1e4daa92bad",
       "version_major": 2,
       "version_minor": 0
      },
      "text/plain": [
       "HBox(children=(FloatProgress(value=0.0, description='Backfitting', max=200.0, style=ProgressStyle(description_…"
      ]
     },
     "metadata": {},
     "output_type": "display_data"
    },
    {
     "name": "stdout",
     "output_type": "stream",
     "text": [
      "Current iteration: 1 ,SOC: 0.0054557\n",
      "Bandwidths: 133.0, 52.0, 116.0, 82.0, 50.0\n",
      "Current iteration: 2 ,SOC: 0.0044876\n",
      "Bandwidths: 158.0, 105.0, 120.0, 55.0, 50.0\n",
      "Current iteration: 3 ,SOC: 0.0026065\n",
      "Bandwidths: 182.0, 127.0, 122.0, 55.0, 43.0\n",
      "Current iteration: 4 ,SOC: 0.0022962\n",
      "Bandwidths: 202.0, 195.0, 122.0, 55.0, 43.0\n",
      "Current iteration: 5 ,SOC: 0.0016683\n",
      "Bandwidths: 202.0, 285.0, 125.0, 55.0, 43.0\n",
      "Current iteration: 6 ,SOC: 0.0010319\n",
      "Bandwidths: 202.0, 365.0, 125.0, 55.0, 43.0\n",
      "Current iteration: 7 ,SOC: 0.0013286\n",
      "Bandwidths: 202.0, 999.0, 125.0, 55.0, 43.0\n",
      "Current iteration: 8 ,SOC: 0.0004091\n",
      "Bandwidths: 202.0, 999.0, 125.0, 55.0, 43.0\n",
      "Current iteration: 9 ,SOC: 0.0001911\n",
      "Bandwidths: 202.0, 999.0, 125.0, 55.0, 43.0\n",
      "Current iteration: 10 ,SOC: 0.0001056\n",
      "Bandwidths: 202.0, 999.0, 125.0, 55.0, 43.0\n",
      "Current iteration: 11 ,SOC: 6.57e-05\n",
      "Bandwidths: 202.0, 999.0, 125.0, 55.0, 43.0\n",
      "Current iteration: 12 ,SOC: 4.4e-05\n",
      "Bandwidths: 202.0, 999.0, 125.0, 55.0, 43.0\n",
      "Current iteration: 13 ,SOC: 3.1e-05\n",
      "Bandwidths: 202.0, 999.0, 125.0, 55.0, 43.0\n",
      "Current iteration: 14 ,SOC: 2.25e-05\n",
      "Bandwidths: 202.0, 999.0, 125.0, 55.0, 43.0\n",
      "Current iteration: 15 ,SOC: 1.66e-05\n",
      "Bandwidths: 202.0, 999.0, 125.0, 55.0, 43.0\n",
      "Current iteration: 16 ,SOC: 1.23e-05\n",
      "Bandwidths: 202.0, 999.0, 125.0, 55.0, 43.0\n",
      "Current iteration: 17 ,SOC: 9.1e-06\n",
      "Bandwidths: 202.0, 999.0, 125.0, 55.0, 43.0\n",
      "Optimal Bandwidths: [202. 999. 125.  55.  43.]\n"
     ]
    },
    {
     "data": {
      "application/vnd.jupyter.widget-view+json": {
       "model_id": "0aeefb4eab4a47579ca652f16150e642",
       "version_major": 2,
       "version_minor": 0
      },
      "text/plain": [
       "HBox(children=(FloatProgress(value=0.0, description='Inference', max=1.0, style=ProgressStyle(description_widt…"
      ]
     },
     "metadata": {},
     "output_type": "display_data"
    },
    {
     "name": "stdout",
     "output_type": "stream",
     "text": [
      "\n",
      "CPU times: user 7min 33s, sys: 8.63 s, total: 7min 41s\n",
      "Wall time: 1min 57s\n"
     ]
    }
   ],
   "source": [
    "%%time\n",
    "#Bandwidth searching\n",
    "selector = Sel_BW(coords,y,X,multi=True)\n",
    "bws = selector.search(verbose=True)\n",
    "print(\"Optimal Bandwidths:\",bws)\n",
    "\n",
    "#Fitting the model with optimal bandwidth\n",
    "pysal_result_mgwr=MGWR(coords,y,X,selector=selector).fit()"
   ]
  },
  {
   "cell_type": "code",
   "execution_count": 13,
   "metadata": {},
   "outputs": [
    {
     "name": "stdout",
     "output_type": "stream",
     "text": [
      "fastgwr, version 0.2.7\r\n"
     ]
    }
   ],
   "source": [
    "!fastgwr --version"
   ]
  },
  {
   "cell_type": "markdown",
   "metadata": {},
   "source": [
    "### FastGWR"
   ]
  },
  {
   "cell_type": "code",
   "execution_count": 14,
   "metadata": {},
   "outputs": [
    {
     "name": "stdout",
     "output_type": "stream",
     "text": [
      "------------------------------------------------------------\n",
      "Starting FastGWR with 4 Processors\n",
      "Spatial Kernel: Adaptive Bisquare\n",
      "Data Input Path: https://raw.github.com/Ziqi-Li/FastGWR/master/Zillow-test-dataset/zillow_2k.csv\n",
      "Output Result Path: results_mgwr.csv\n",
      "Constant: True\n",
      "MGWR Backfitting...\n",
      "Data are standardized\n",
      "Initialization Done...\n",
      "Iter: 1 SOC: 4.78e-03\n",
      "bws: [94.0, 44.0, 1492.0, 50.0, 44.0]\n",
      "Iter: 2 SOC: 1.98e-03\n",
      "bws: [167.0, 48.0, 1998.0, 56.0, 44.0]\n",
      "Iter: 3 SOC: 1.26e-03\n",
      "bws: [248.0, 52.0, 1998.0, 56.0, 44.0]\n",
      "Iter: 4 SOC: 9.19e-04\n",
      "bws: [270.0, 58.0, 1998.0, 56.0, 44.0]\n",
      "Iter: 5 SOC: 7.67e-04\n",
      "bws: [272.0, 66.0, 1998.0, 56.0, 44.0]\n",
      "Iter: 6 SOC: 7.65e-04\n",
      "bws: [280.0, 78.0, 1998.0, 56.0, 44.0]\n",
      "Iter: 7 SOC: 4.17e-04\n",
      "bws: [280.0, 78.0, 1998.0, 56.0, 44.0]\n",
      "Iter: 8 SOC: 6.79e-04\n",
      "bws: [280.0, 97.0, 1998.0, 56.0, 44.0]\n",
      "Iter: 9 SOC: 6.27e-04\n",
      "bws: [280.0, 113.0, 1998.0, 56.0, 44.0]\n",
      "Iter: 10 SOC: 3.97e-04\n",
      "bws: [280.0, 117.0, 1998.0, 56.0, 44.0]\n",
      "Iter: 11 SOC: 3.30e-04\n",
      "bws: [280.0, 123.0, 1998.0, 56.0, 44.0]\n",
      "Iter: 12 SOC: 2.11e-04\n",
      "bws: [280.0, 123.0, 1998.0, 56.0, 44.0]\n",
      "Iter: 13 SOC: 1.44e-04\n",
      "bws: [280.0, 123.0, 1998.0, 56.0, 44.0]\n",
      "Iter: 14 SOC: 1.00e-04\n",
      "bws: [280.0, 123.0, 1998.0, 56.0, 44.0]\n",
      "Iter: 15 SOC: 7.08e-05\n",
      "bws: [280.0, 123.0, 1998.0, 56.0, 44.0]\n",
      "Iter: 16 SOC: 5.10e-05\n",
      "bws: [280.0, 123.0, 1998.0, 56.0, 44.0]\n",
      "Iter: 17 SOC: 3.75e-05\n",
      "bws: [280.0, 123.0, 1998.0, 56.0, 44.0]\n",
      "Iter: 18 SOC: 2.82e-05\n",
      "bws: [280.0, 123.0, 1998.0, 56.0, 44.0]\n",
      "Iter: 19 SOC: 2.15e-05\n",
      "bws: [280.0, 123.0, 1998.0, 56.0, 44.0]\n",
      "Iter: 20 SOC: 1.67e-05\n",
      "bws: [280.0, 123.0, 1998.0, 56.0, 44.0]\n",
      "Iter: 21 SOC: 1.31e-05\n",
      "bws: [280.0, 123.0, 1998.0, 56.0, 44.0]\n",
      "Iter: 22 SOC: 1.03e-05\n",
      "bws: [280.0, 123.0, 1998.0, 56.0, 44.0]\n",
      "Iter: 23 SOC: 8.15e-06\n",
      "bws: [280.0, 123.0, 1998.0, 56.0, 44.0]\n",
      "Computing Inference with 1 Chunk(s)\n",
      "Diagnostic Information:\n",
      "AICc: 2256.9559386428914\n",
      "ENP: [ 14.69383903  29.7373268    1.34217664  84.17421328 110.17536999]\n",
      "R2: 0.8624452591580221\n",
      "Total Time Elapsed: 165.82 seconds\n",
      "------------------------------------------------------------\n"
     ]
    }
   ],
   "source": [
    "#Running FastGWR 4 Processor\n",
    "!fastgwr run -np 4 -data https://raw.github.com/Ziqi-Li/FastGWR/master/Zillow-test-dataset/zillow_2k.csv -out results_mgwr.csv -adaptive -constant -mgwr\n"
   ]
  },
  {
   "cell_type": "markdown",
   "metadata": {},
   "source": [
    "### Results validation"
   ]
  },
  {
   "cell_type": "code",
   "execution_count": 15,
   "metadata": {},
   "outputs": [
    {
     "name": "stdout",
     "output_type": "stream",
     "text": [
      "MGWR pysal AICc -  1679.0150747382786\n",
      "MGWR pysal R2 -  0.7660681409024748\n",
      "MGWR pysal ENP_j -  [10.13917587  1.15749374 16.97300011 42.38091109 56.32981658]\n"
     ]
    }
   ],
   "source": [
    "print(\"MGWR pysal AICc - \", pysal_result_mgwr.aicc)\n",
    "print(\"MGWR pysal R2 - \",pysal_result_mgwr.R2)\n",
    "print(\"MGWR pysal ENP_j - \",pysal_result_mgwr.ENP_j)"
   ]
  },
  {
   "cell_type": "code",
   "execution_count": 16,
   "metadata": {},
   "outputs": [
    {
     "data": {
      "text/html": [
       "<div>\n",
       "<style scoped>\n",
       "    .dataframe tbody tr th:only-of-type {\n",
       "        vertical-align: middle;\n",
       "    }\n",
       "\n",
       "    .dataframe tbody tr th {\n",
       "        vertical-align: top;\n",
       "    }\n",
       "\n",
       "    .dataframe thead th {\n",
       "        text-align: right;\n",
       "    }\n",
       "</style>\n",
       "<table border=\"1\" class=\"dataframe\">\n",
       "  <thead>\n",
       "    <tr style=\"text-align: right;\">\n",
       "      <th></th>\n",
       "      <th>index</th>\n",
       "      <th>residual</th>\n",
       "      <th>b_intercept</th>\n",
       "      <th>b_nbaths</th>\n",
       "      <th>b_nbeds</th>\n",
       "      <th>b_area</th>\n",
       "      <th>b_age</th>\n",
       "      <th>se_intercept</th>\n",
       "      <th>se_nbaths</th>\n",
       "      <th>se_nbeds</th>\n",
       "      <th>se_area</th>\n",
       "      <th>se_age</th>\n",
       "    </tr>\n",
       "  </thead>\n",
       "  <tbody>\n",
       "    <tr>\n",
       "      <th>0</th>\n",
       "      <td>0.0</td>\n",
       "      <td>-0.336452</td>\n",
       "      <td>-0.046794</td>\n",
       "      <td>0.084333</td>\n",
       "      <td>-0.040595</td>\n",
       "      <td>0.629198</td>\n",
       "      <td>-0.081248</td>\n",
       "      <td>0.034153</td>\n",
       "      <td>0.053541</td>\n",
       "      <td>0.014126</td>\n",
       "      <td>0.083024</td>\n",
       "      <td>0.082652</td>\n",
       "    </tr>\n",
       "    <tr>\n",
       "      <th>1</th>\n",
       "      <td>1.0</td>\n",
       "      <td>-0.042770</td>\n",
       "      <td>-0.077343</td>\n",
       "      <td>0.154635</td>\n",
       "      <td>-0.040205</td>\n",
       "      <td>0.053850</td>\n",
       "      <td>0.128839</td>\n",
       "      <td>0.035849</td>\n",
       "      <td>0.079196</td>\n",
       "      <td>0.014202</td>\n",
       "      <td>0.111559</td>\n",
       "      <td>0.185932</td>\n",
       "    </tr>\n",
       "    <tr>\n",
       "      <th>2</th>\n",
       "      <td>2.0</td>\n",
       "      <td>-0.370762</td>\n",
       "      <td>-0.035594</td>\n",
       "      <td>0.078720</td>\n",
       "      <td>-0.040924</td>\n",
       "      <td>0.310587</td>\n",
       "      <td>-0.006906</td>\n",
       "      <td>0.033693</td>\n",
       "      <td>0.068944</td>\n",
       "      <td>0.014231</td>\n",
       "      <td>0.131940</td>\n",
       "      <td>0.108631</td>\n",
       "    </tr>\n",
       "    <tr>\n",
       "      <th>3</th>\n",
       "      <td>3.0</td>\n",
       "      <td>0.131690</td>\n",
       "      <td>-0.071150</td>\n",
       "      <td>0.036836</td>\n",
       "      <td>-0.039820</td>\n",
       "      <td>0.660700</td>\n",
       "      <td>0.155930</td>\n",
       "      <td>0.033063</td>\n",
       "      <td>0.063875</td>\n",
       "      <td>0.013821</td>\n",
       "      <td>0.069140</td>\n",
       "      <td>0.100749</td>\n",
       "    </tr>\n",
       "    <tr>\n",
       "      <th>4</th>\n",
       "      <td>4.0</td>\n",
       "      <td>-0.174278</td>\n",
       "      <td>-0.065584</td>\n",
       "      <td>0.113368</td>\n",
       "      <td>-0.040148</td>\n",
       "      <td>0.343204</td>\n",
       "      <td>-0.045846</td>\n",
       "      <td>0.033543</td>\n",
       "      <td>0.057233</td>\n",
       "      <td>0.013854</td>\n",
       "      <td>0.092935</td>\n",
       "      <td>0.071965</td>\n",
       "    </tr>\n",
       "  </tbody>\n",
       "</table>\n",
       "</div>"
      ],
      "text/plain": [
       "   index  residual  b_intercept  b_nbaths   b_nbeds    b_area     b_age  \\\n",
       "0    0.0 -0.336452    -0.046794  0.084333 -0.040595  0.629198 -0.081248   \n",
       "1    1.0 -0.042770    -0.077343  0.154635 -0.040205  0.053850  0.128839   \n",
       "2    2.0 -0.370762    -0.035594  0.078720 -0.040924  0.310587 -0.006906   \n",
       "3    3.0  0.131690    -0.071150  0.036836 -0.039820  0.660700  0.155930   \n",
       "4    4.0 -0.174278    -0.065584  0.113368 -0.040148  0.343204 -0.045846   \n",
       "\n",
       "   se_intercept  se_nbaths  se_nbeds   se_area    se_age  \n",
       "0      0.034153   0.053541  0.014126  0.083024  0.082652  \n",
       "1      0.035849   0.079196  0.014202  0.111559  0.185932  \n",
       "2      0.033693   0.068944  0.014231  0.131940  0.108631  \n",
       "3      0.033063   0.063875  0.013821  0.069140  0.100749  \n",
       "4      0.033543   0.057233  0.013854  0.092935  0.071965  "
      ]
     },
     "execution_count": 16,
     "metadata": {},
     "output_type": "execute_result"
    }
   ],
   "source": [
    "fastGWR_result_mgwr = pd.read_csv(\"results_mgwr.csv\")\n",
    "fastGWR_result_mgwr.head()"
   ]
  },
  {
   "cell_type": "code",
   "execution_count": 17,
   "metadata": {},
   "outputs": [
    {
     "ename": "ValueError",
     "evalue": "operands could not be broadcast together with shapes (2000,) (1000,) ",
     "output_type": "error",
     "traceback": [
      "\u001b[0;31m---------------------------------------------------------------------------\u001b[0m",
      "\u001b[0;31mValueError\u001b[0m                                Traceback (most recent call last)",
      "\u001b[0;32m<ipython-input-17-68c1d07ff21d>\u001b[0m in \u001b[0;36m<module>\u001b[0;34m\u001b[0m\n\u001b[1;32m      1\u001b[0m \u001b[0;31m#Validate model residuals\u001b[0m\u001b[0;34m\u001b[0m\u001b[0;34m\u001b[0m\u001b[0;34m\u001b[0m\u001b[0m\n\u001b[1;32m      2\u001b[0m print(np.allclose(fastGWR_result_mgwr.residual,\n\u001b[0;32m----> 3\u001b[0;31m                   pysal_result_mgwr.resid_response.reshape(-1)))\n\u001b[0m",
      "\u001b[0;32m<__array_function__ internals>\u001b[0m in \u001b[0;36mallclose\u001b[0;34m(*args, **kwargs)\u001b[0m\n",
      "\u001b[0;32m~/opt/anaconda3/lib/python3.7/site-packages/numpy/core/numeric.py\u001b[0m in \u001b[0;36mallclose\u001b[0;34m(a, b, rtol, atol, equal_nan)\u001b[0m\n\u001b[1;32m   2187\u001b[0m \u001b[0;34m\u001b[0m\u001b[0m\n\u001b[1;32m   2188\u001b[0m     \"\"\"\n\u001b[0;32m-> 2189\u001b[0;31m     \u001b[0mres\u001b[0m \u001b[0;34m=\u001b[0m \u001b[0mall\u001b[0m\u001b[0;34m(\u001b[0m\u001b[0misclose\u001b[0m\u001b[0;34m(\u001b[0m\u001b[0ma\u001b[0m\u001b[0;34m,\u001b[0m \u001b[0mb\u001b[0m\u001b[0;34m,\u001b[0m \u001b[0mrtol\u001b[0m\u001b[0;34m=\u001b[0m\u001b[0mrtol\u001b[0m\u001b[0;34m,\u001b[0m \u001b[0matol\u001b[0m\u001b[0;34m=\u001b[0m\u001b[0matol\u001b[0m\u001b[0;34m,\u001b[0m \u001b[0mequal_nan\u001b[0m\u001b[0;34m=\u001b[0m\u001b[0mequal_nan\u001b[0m\u001b[0;34m)\u001b[0m\u001b[0;34m)\u001b[0m\u001b[0;34m\u001b[0m\u001b[0;34m\u001b[0m\u001b[0m\n\u001b[0m\u001b[1;32m   2190\u001b[0m     \u001b[0;32mreturn\u001b[0m \u001b[0mbool\u001b[0m\u001b[0;34m(\u001b[0m\u001b[0mres\u001b[0m\u001b[0;34m)\u001b[0m\u001b[0;34m\u001b[0m\u001b[0;34m\u001b[0m\u001b[0m\n\u001b[1;32m   2191\u001b[0m \u001b[0;34m\u001b[0m\u001b[0m\n",
      "\u001b[0;32m<__array_function__ internals>\u001b[0m in \u001b[0;36misclose\u001b[0;34m(*args, **kwargs)\u001b[0m\n",
      "\u001b[0;32m~/opt/anaconda3/lib/python3.7/site-packages/numpy/core/numeric.py\u001b[0m in \u001b[0;36misclose\u001b[0;34m(a, b, rtol, atol, equal_nan)\u001b[0m\n\u001b[1;32m   2288\u001b[0m     \u001b[0myfin\u001b[0m \u001b[0;34m=\u001b[0m \u001b[0misfinite\u001b[0m\u001b[0;34m(\u001b[0m\u001b[0my\u001b[0m\u001b[0;34m)\u001b[0m\u001b[0;34m\u001b[0m\u001b[0;34m\u001b[0m\u001b[0m\n\u001b[1;32m   2289\u001b[0m     \u001b[0;32mif\u001b[0m \u001b[0mall\u001b[0m\u001b[0;34m(\u001b[0m\u001b[0mxfin\u001b[0m\u001b[0;34m)\u001b[0m \u001b[0;32mand\u001b[0m \u001b[0mall\u001b[0m\u001b[0;34m(\u001b[0m\u001b[0myfin\u001b[0m\u001b[0;34m)\u001b[0m\u001b[0;34m:\u001b[0m\u001b[0;34m\u001b[0m\u001b[0;34m\u001b[0m\u001b[0m\n\u001b[0;32m-> 2290\u001b[0;31m         \u001b[0;32mreturn\u001b[0m \u001b[0mwithin_tol\u001b[0m\u001b[0;34m(\u001b[0m\u001b[0mx\u001b[0m\u001b[0;34m,\u001b[0m \u001b[0my\u001b[0m\u001b[0;34m,\u001b[0m \u001b[0matol\u001b[0m\u001b[0;34m,\u001b[0m \u001b[0mrtol\u001b[0m\u001b[0;34m)\u001b[0m\u001b[0;34m\u001b[0m\u001b[0;34m\u001b[0m\u001b[0m\n\u001b[0m\u001b[1;32m   2291\u001b[0m     \u001b[0;32melse\u001b[0m\u001b[0;34m:\u001b[0m\u001b[0;34m\u001b[0m\u001b[0;34m\u001b[0m\u001b[0m\n\u001b[1;32m   2292\u001b[0m         \u001b[0mfinite\u001b[0m \u001b[0;34m=\u001b[0m \u001b[0mxfin\u001b[0m \u001b[0;34m&\u001b[0m \u001b[0myfin\u001b[0m\u001b[0;34m\u001b[0m\u001b[0;34m\u001b[0m\u001b[0m\n",
      "\u001b[0;32m~/opt/anaconda3/lib/python3.7/site-packages/numpy/core/numeric.py\u001b[0m in \u001b[0;36mwithin_tol\u001b[0;34m(x, y, atol, rtol)\u001b[0m\n\u001b[1;32m   2274\u001b[0m     \u001b[0;32mdef\u001b[0m \u001b[0mwithin_tol\u001b[0m\u001b[0;34m(\u001b[0m\u001b[0mx\u001b[0m\u001b[0;34m,\u001b[0m \u001b[0my\u001b[0m\u001b[0;34m,\u001b[0m \u001b[0matol\u001b[0m\u001b[0;34m,\u001b[0m \u001b[0mrtol\u001b[0m\u001b[0;34m)\u001b[0m\u001b[0;34m:\u001b[0m\u001b[0;34m\u001b[0m\u001b[0;34m\u001b[0m\u001b[0m\n\u001b[1;32m   2275\u001b[0m         \u001b[0;32mwith\u001b[0m \u001b[0merrstate\u001b[0m\u001b[0;34m(\u001b[0m\u001b[0minvalid\u001b[0m\u001b[0;34m=\u001b[0m\u001b[0;34m'ignore'\u001b[0m\u001b[0;34m)\u001b[0m\u001b[0;34m:\u001b[0m\u001b[0;34m\u001b[0m\u001b[0;34m\u001b[0m\u001b[0m\n\u001b[0;32m-> 2276\u001b[0;31m             \u001b[0;32mreturn\u001b[0m \u001b[0mless_equal\u001b[0m\u001b[0;34m(\u001b[0m\u001b[0mabs\u001b[0m\u001b[0;34m(\u001b[0m\u001b[0mx\u001b[0m\u001b[0;34m-\u001b[0m\u001b[0my\u001b[0m\u001b[0;34m)\u001b[0m\u001b[0;34m,\u001b[0m \u001b[0matol\u001b[0m \u001b[0;34m+\u001b[0m \u001b[0mrtol\u001b[0m \u001b[0;34m*\u001b[0m \u001b[0mabs\u001b[0m\u001b[0;34m(\u001b[0m\u001b[0my\u001b[0m\u001b[0;34m)\u001b[0m\u001b[0;34m)\u001b[0m\u001b[0;34m\u001b[0m\u001b[0;34m\u001b[0m\u001b[0m\n\u001b[0m\u001b[1;32m   2277\u001b[0m \u001b[0;34m\u001b[0m\u001b[0m\n\u001b[1;32m   2278\u001b[0m     \u001b[0mx\u001b[0m \u001b[0;34m=\u001b[0m \u001b[0masanyarray\u001b[0m\u001b[0;34m(\u001b[0m\u001b[0ma\u001b[0m\u001b[0;34m)\u001b[0m\u001b[0;34m\u001b[0m\u001b[0;34m\u001b[0m\u001b[0m\n",
      "\u001b[0;31mValueError\u001b[0m: operands could not be broadcast together with shapes (2000,) (1000,) "
     ]
    }
   ],
   "source": [
    "#Validate model residuals\n",
    "print(np.allclose(fastGWR_result_mgwr.residual,\n",
    "                  pysal_result_mgwr.resid_response.reshape(-1)))\n"
   ]
  },
  {
   "cell_type": "code",
   "execution_count": null,
   "metadata": {},
   "outputs": [],
   "source": [
    "#Validate parameter estimates\n",
    "print(np.allclose(np.array(fastGWR_result_mgwr.iloc[:,2:7]),\n",
    "                  pysal_result_mgwr.params))\n",
    "\n"
   ]
  },
  {
   "cell_type": "code",
   "execution_count": null,
   "metadata": {},
   "outputs": [],
   "source": [
    "#Validate parameter estimates standard errors\n",
    "print(np.allclose(np.array(fastGWR_result_mgwr.iloc[:,7:12]),\n",
    "                  pysal_result_mgwr.bse,atol=1e-3))\n"
   ]
  },
  {
   "cell_type": "code",
   "execution_count": null,
   "metadata": {},
   "outputs": [],
   "source": []
  }
 ],
 "metadata": {
  "kernelspec": {
   "display_name": "Python 3",
   "language": "python",
   "name": "python3"
  },
  "language_info": {
   "codemirror_mode": {
    "name": "ipython",
    "version": 3
   },
   "file_extension": ".py",
   "mimetype": "text/x-python",
   "name": "python",
   "nbconvert_exporter": "python",
   "pygments_lexer": "ipython3",
   "version": "3.7.6"
  }
 },
 "nbformat": 4,
 "nbformat_minor": 2
}
