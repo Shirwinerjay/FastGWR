{
 "cells": [
  {
   "cell_type": "code",
   "execution_count": 1,
   "metadata": {},
   "outputs": [],
   "source": [
    "import os"
   ]
  },
  {
   "cell_type": "code",
   "execution_count": 2,
   "metadata": {},
   "outputs": [
    {
     "name": "stdout",
     "output_type": "stream",
     "text": [
      "fastgwr, version 0.2.7\r\n"
     ]
    }
   ],
   "source": [
    "!fastgwr --version"
   ]
  },
  {
   "cell_type": "code",
   "execution_count": 3,
   "metadata": {},
   "outputs": [],
   "source": [
    "%load_ext memory_profiler"
   ]
  },
  {
   "cell_type": "code",
   "execution_count": 4,
   "metadata": {},
   "outputs": [],
   "source": [
    "from memory_profiler import memory_usage"
   ]
  },
  {
   "cell_type": "code",
   "execution_count": null,
   "metadata": {},
   "outputs": [],
   "source": [
    "n_chunks = 1\n",
    "def run(n_chunks=1):\n",
    "    url = \"https://raw.github.com/Ziqi-Li/FastGWR/master/Zillow-test-dataset/zillow_2k.csv\"\n",
    "    cmd = \"/usr/bin/time -l fastgwr run -np 4 -data \" + url + \\\n",
    "        \" -adaptive -constant -mgwr -chunks \" + str(n_chunks)\n",
    "    os.system(cmd)"
   ]
  },
  {
   "cell_type": "code",
   "execution_count": 7,
   "metadata": {},
   "outputs": [
    {
     "name": "stdout",
     "output_type": "stream",
     "text": [
      "------------------------------------------------------------\n",
      "Starting FastGWR with 4 Processors\n",
      "Spatial Kernel: Adaptive Bisquare\n",
      "Data Input Path: https://raw.github.com/Ziqi-Li/FastGWR/master/Zillow-test-dataset/zillow_1k.csv\n",
      "Output Result Path: fastgwr_rslt.csv\n",
      "Constant: True\n",
      "MGWR Backfitting...\n",
      "Data are standardized\n",
      "Initialization Done...\n",
      "Iter: 1 SOC: 5.46e-03\n",
      "bws: [133.0, 52.0, 116.0, 82.0, 50.0]\n",
      "Iter: 2 SOC: 4.49e-03\n",
      "bws: [158.0, 105.0, 120.0, 55.0, 50.0]\n",
      "Iter: 3 SOC: 2.61e-03\n",
      "bws: [182.0, 127.0, 122.0, 55.0, 43.0]\n",
      "Iter: 4 SOC: 2.30e-03\n",
      "bws: [202.0, 195.0, 122.0, 55.0, 43.0]\n",
      "Iter: 5 SOC: 1.67e-03\n",
      "bws: [202.0, 285.0, 125.0, 55.0, 43.0]\n",
      "Iter: 6 SOC: 1.03e-03\n",
      "bws: [202.0, 365.0, 125.0, 55.0, 43.0]\n",
      "Iter: 7 SOC: 1.33e-03\n",
      "bws: [202.0, 999.0, 125.0, 55.0, 43.0]\n",
      "Iter: 8 SOC: 4.09e-04\n",
      "bws: [202.0, 999.0, 125.0, 55.0, 43.0]\n",
      "Iter: 9 SOC: 1.91e-04\n",
      "bws: [202.0, 999.0, 125.0, 55.0, 43.0]\n",
      "Iter: 10 SOC: 1.06e-04\n",
      "bws: [202.0, 999.0, 125.0, 55.0, 43.0]\n",
      "Iter: 11 SOC: 6.57e-05\n",
      "bws: [202.0, 999.0, 125.0, 55.0, 43.0]\n",
      "Iter: 12 SOC: 4.40e-05\n",
      "bws: [202.0, 999.0, 125.0, 55.0, 43.0]\n",
      "Iter: 13 SOC: 3.10e-05\n",
      "bws: [202.0, 999.0, 125.0, 55.0, 43.0]\n",
      "Iter: 14 SOC: 2.25e-05\n",
      "bws: [202.0, 999.0, 125.0, 55.0, 43.0]\n",
      "Iter: 15 SOC: 1.66e-05\n",
      "bws: [202.0, 999.0, 125.0, 55.0, 43.0]\n",
      "Iter: 16 SOC: 1.23e-05\n",
      "bws: [202.0, 999.0, 125.0, 55.0, 43.0]\n",
      "Iter: 17 SOC: 9.14e-06\n",
      "bws: [202.0, 999.0, 125.0, 55.0, 43.0]\n",
      "Computing Inference with 1 Chunk(s)\n",
      "Diagnostic Information:\n",
      "AICc: 1679.0150747382897\n",
      "ENP: [10.13917587  1.15749374 16.97300011 42.38091109 56.32981658]\n",
      "R2: 0.7660681409024722\n",
      "Total Time Elapsed: 42.76 seconds\n",
      "------------------------------------------------------------\n",
      "       43.56 real       177.61 user        28.37 sys\n",
      "            72687616  maximum resident set size\n",
      "                   0  average shared memory size\n",
      "                   0  average unshared data size\n",
      "                   0  average unshared stack size\n",
      "               71508  page reclaims\n",
      "                2694  page faults\n",
      "                   0  swaps\n",
      "                   0  block input operations\n",
      "                   0  block output operations\n",
      "                 148  messages sent\n",
      "                 422  messages received\n",
      "                   3  signals received\n",
      "                 528  voluntary context switches\n",
      "             9063816  involuntary context switches\n",
      "           229879595  instructions retired\n",
      "           264215714  cycles elapsed\n",
      "             7094272  peak memory footprint\n"
     ]
    }
   ],
   "source": [
    "!/usr/bin/time -l fastgwr run -np 4 -data https://raw.github.com/Ziqi-Li/FastGWR/master/Zillow-test-dataset/zillow_1k.csv -adaptive -constant -mgwr -chunks 1"
   ]
  },
  {
   "cell_type": "markdown",
   "metadata": {},
   "source": [
    "The chunk parameter is designed to reduce memory usage by the program. Setting a large number of chunks will let the program to split the matrix computation into more chunks."
   ]
  },
  {
   "cell_type": "markdown",
   "metadata": {},
   "source": [
    "Peak Memory Usage of `fastgwr` with 1 chunk (default)."
   ]
  },
  {
   "cell_type": "code",
   "execution_count": 8,
   "metadata": {},
   "outputs": [
    {
     "name": "stdout",
     "output_type": "stream",
     "text": [
      "------------------------------------------------------------\n",
      "Starting FastGWR with 4 Processors\n",
      "Spatial Kernel: Adaptive Bisquare\n",
      "Data Input Path: https://raw.github.com/Ziqi-Li/FastGWR/master/Zillow-test-dataset/zillow_1k.csv\n",
      "Output Result Path: fastgwr_rslt.csv\n",
      "Constant: True\n",
      "MGWR Backfitting...\n",
      "Data are standardized\n",
      "Initialization Done...\n",
      "Iter: 1 SOC: 5.46e-03\n",
      "bws: [133.0, 52.0, 116.0, 82.0, 50.0]\n",
      "Iter: 2 SOC: 4.49e-03\n",
      "bws: [158.0, 105.0, 120.0, 55.0, 50.0]\n",
      "Iter: 3 SOC: 2.61e-03\n",
      "bws: [182.0, 127.0, 122.0, 55.0, 43.0]\n",
      "Iter: 4 SOC: 2.30e-03\n",
      "bws: [202.0, 195.0, 122.0, 55.0, 43.0]\n",
      "Iter: 5 SOC: 1.67e-03\n",
      "bws: [202.0, 285.0, 125.0, 55.0, 43.0]\n",
      "Iter: 6 SOC: 1.03e-03\n",
      "bws: [202.0, 365.0, 125.0, 55.0, 43.0]\n",
      "Iter: 7 SOC: 1.33e-03\n",
      "bws: [202.0, 999.0, 125.0, 55.0, 43.0]\n",
      "Iter: 8 SOC: 4.09e-04\n",
      "bws: [202.0, 999.0, 125.0, 55.0, 43.0]\n",
      "Iter: 9 SOC: 1.91e-04\n",
      "bws: [202.0, 999.0, 125.0, 55.0, 43.0]\n",
      "Iter: 10 SOC: 1.06e-04\n",
      "bws: [202.0, 999.0, 125.0, 55.0, 43.0]\n",
      "Iter: 11 SOC: 6.57e-05\n",
      "bws: [202.0, 999.0, 125.0, 55.0, 43.0]\n",
      "Iter: 12 SOC: 4.40e-05\n",
      "bws: [202.0, 999.0, 125.0, 55.0, 43.0]\n",
      "Iter: 13 SOC: 3.10e-05\n",
      "bws: [202.0, 999.0, 125.0, 55.0, 43.0]\n",
      "Iter: 14 SOC: 2.25e-05\n",
      "bws: [202.0, 999.0, 125.0, 55.0, 43.0]\n",
      "Iter: 15 SOC: 1.66e-05\n",
      "bws: [202.0, 999.0, 125.0, 55.0, 43.0]\n",
      "Iter: 16 SOC: 1.23e-05\n",
      "bws: [202.0, 999.0, 125.0, 55.0, 43.0]\n",
      "Iter: 17 SOC: 9.14e-06\n",
      "bws: [202.0, 999.0, 125.0, 55.0, 43.0]\n",
      "Computing Inference with 4 Chunk(s)\n",
      "Diagnostic Information:\n",
      "AICc: 1679.0150747382897\n",
      "ENP: [10.13917587  1.15749374 16.97300011 42.38091109 56.32981658]\n",
      "R2: 0.7660681409024722\n",
      "Total Time Elapsed: 80.94 seconds\n",
      "------------------------------------------------------------\n",
      "       81.97 real       334.33 user        98.54 sys\n",
      "            49328128  maximum resident set size\n",
      "                   0  average shared memory size\n",
      "                   0  average unshared data size\n",
      "                   0  average unshared stack size\n",
      "               52941  page reclaims\n",
      "                2706  page faults\n",
      "                   0  swaps\n",
      "                   0  block input operations\n",
      "                   0  block output operations\n",
      "                 107  messages sent\n",
      "                 202  messages received\n",
      "                   3  signals received\n",
      "                1283  voluntary context switches\n",
      "            31801910  involuntary context switches\n",
      "           240339894  instructions retired\n",
      "           240409302  cycles elapsed\n",
      "             7065600  peak memory footprint\n"
     ]
    }
   ],
   "source": [
    "!/usr/bin/time -l fastgwr run -np 4 -data https://raw.github.com/Ziqi-Li/FastGWR/master/Zillow-test-dataset/zillow_1k.csv -adaptive -constant -mgwr -chunks 4"
   ]
  },
  {
   "cell_type": "markdown",
   "metadata": {},
   "source": [
    "Peak Memory Usage of `fastgwr` with 2 chunks."
   ]
  },
  {
   "cell_type": "code",
   "execution_count": null,
   "metadata": {},
   "outputs": [],
   "source": [
    "memory_usage((run, {'n_chunks' : 1}),max_usage=True, include_children=True)"
   ]
  },
  {
   "cell_type": "markdown",
   "metadata": {},
   "source": [
    "Peak Memory Usage of `fastgwr` with 4 chunks."
   ]
  },
  {
   "cell_type": "code",
   "execution_count": null,
   "metadata": {},
   "outputs": [],
   "source": [
    "memory_usage((run, {'n_chunks' : 4}), max_usage=True, include_children=True)"
   ]
  },
  {
   "cell_type": "code",
   "execution_count": null,
   "metadata": {},
   "outputs": [],
   "source": []
  },
  {
   "cell_type": "code",
   "execution_count": null,
   "metadata": {},
   "outputs": [],
   "source": []
  },
  {
   "cell_type": "code",
   "execution_count": null,
   "metadata": {},
   "outputs": [],
   "source": []
  }
 ],
 "metadata": {
  "kernelspec": {
   "display_name": "Python 3",
   "language": "python",
   "name": "python3"
  },
  "language_info": {
   "codemirror_mode": {
    "name": "ipython",
    "version": 3
   },
   "file_extension": ".py",
   "mimetype": "text/x-python",
   "name": "python",
   "nbconvert_exporter": "python",
   "pygments_lexer": "ipython3",
   "version": "3.7.6"
  }
 },
 "nbformat": 4,
 "nbformat_minor": 2
}
