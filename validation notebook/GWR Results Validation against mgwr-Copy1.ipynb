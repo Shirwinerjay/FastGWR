{
 "cells": [
  {
   "cell_type": "code",
   "execution_count": 1,
   "metadata": {},
   "outputs": [],
   "source": [
    "import math\n",
    "import sys,os\n",
    "import numpy as np\n",
    "import pandas as pd\n",
    "\n",
    "from mgwr.gwr import GWR,GWRResults\n",
    "from mgwr.sel_bw import Sel_BW\n",
    "\n",
    "import multiprocessing as mp"
   ]
  },
  {
   "cell_type": "markdown",
   "metadata": {},
   "source": [
    "Performance for `mgwr` 1 processor"
   ]
  },
  {
   "cell_type": "code",
   "execution_count": 2,
   "metadata": {},
   "outputs": [],
   "source": [
    "pool1=mp.Pool(1)"
   ]
  },
  {
   "cell_type": "code",
   "execution_count": 3,
   "metadata": {
    "scrolled": true
   },
   "outputs": [
    {
     "name": "stdout",
     "output_type": "stream",
     "text": [
      "Bandwidth:  3851.0 , score:  126339.88\n",
      "Bandwidth:  6199.0 , score:  126705.24\n",
      "Bandwidth:  2399.0 , score:  125925.83\n",
      "Bandwidth:  1502.0 , score:  125427.92\n",
      "Bandwidth:  947.0 , score:  125037.69\n",
      "Bandwidth:  605.0 , score:  124739.76\n",
      "Bandwidth:  393.0 , score:  124520.35\n",
      "Bandwidth:  262.0 , score:  124428.93\n",
      "Bandwidth:  181.0 , score:  124364.30\n",
      "Bandwidth:  131.0 , score:  124363.81\n",
      "Bandwidth:  100.0 , score:  124407.59\n",
      "Bandwidth:  150.0 , score:  124370.05\n",
      "Bandwidth:  119.0 , score:  124372.30\n",
      "Bandwidth:  138.0 , score:  124371.04\n",
      "Bandwidth:  126.0 , score:  124372.19\n",
      "Bandwidth:  133.0 , score:  124362.30\n",
      "Bandwidth:  135.0 , score:  124366.53\n",
      "Optimal Bandwidth: 133.0\n",
      "CPU times: user 1.51 s, sys: 220 ms, total: 1.73 s\n",
      "Wall time: 2min 3s\n"
     ]
    }
   ],
   "source": [
    "%%time\n",
    "zillow = pd.read_csv(\"https://raw.github.com/Ziqi-Li/FastGWR/master/Zillow-test-dataset/zillow_10k.csv\",sep=',')\n",
    "y = zillow.value.values.reshape(-1,1)\n",
    "X = zillow.iloc[:,3:].values\n",
    "k = zillow.shape[1]\n",
    "u = zillow.utmX\n",
    "v = zillow.utmY\n",
    "n = zillow.shape[0]\n",
    "coords = np.array(list(zip(u,v)))\n",
    "\n",
    "#Bandwidth searching\n",
    "opt_bw_adap = Sel_BW(coords,y,X).search(verbose=True,pool=pool1)\n",
    "print(\"Optimal Bandwidth:\",opt_bw_adap)\n",
    "\n",
    "#Fitting the model with optimal bandwidth\n",
    "pysal_result_adap=GWR(coords,y,X,opt_bw_adap).fit(pool=pool1)\n",
    "\n",
    "pool1.close() \n",
    "pool1.join()"
   ]
  },
  {
   "cell_type": "markdown",
   "metadata": {},
   "source": [
    "Performance for `mgwr` 4 processors"
   ]
  },
  {
   "cell_type": "code",
   "execution_count": 4,
   "metadata": {},
   "outputs": [],
   "source": [
    "pool4=mp.Pool(4)"
   ]
  },
  {
   "cell_type": "code",
   "execution_count": 5,
   "metadata": {},
   "outputs": [
    {
     "name": "stdout",
     "output_type": "stream",
     "text": [
      "Bandwidth:  3851.0 , score:  126339.88\n",
      "Bandwidth:  6199.0 , score:  126705.24\n",
      "Bandwidth:  2399.0 , score:  125925.83\n",
      "Bandwidth:  1502.0 , score:  125427.92\n",
      "Bandwidth:  947.0 , score:  125037.69\n",
      "Bandwidth:  605.0 , score:  124739.76\n",
      "Bandwidth:  393.0 , score:  124520.35\n",
      "Bandwidth:  262.0 , score:  124428.93\n",
      "Bandwidth:  181.0 , score:  124364.30\n",
      "Bandwidth:  131.0 , score:  124363.81\n",
      "Bandwidth:  100.0 , score:  124407.59\n",
      "Bandwidth:  150.0 , score:  124370.05\n",
      "Bandwidth:  119.0 , score:  124372.30\n",
      "Bandwidth:  138.0 , score:  124371.04\n",
      "Bandwidth:  126.0 , score:  124372.19\n",
      "Bandwidth:  133.0 , score:  124362.30\n",
      "Bandwidth:  135.0 , score:  124366.53\n",
      "Optimal Bandwidth: 133.0\n",
      "CPU times: user 1.64 s, sys: 202 ms, total: 1.84 s\n",
      "Wall time: 58.2 s\n"
     ]
    }
   ],
   "source": [
    "%%time\n",
    "zillow = pd.read_csv(\"https://raw.github.com/Ziqi-Li/FastGWR/master/Zillow-test-dataset/zillow_10k.csv\",sep=',')\n",
    "y = zillow.value.values.reshape(-1,1)\n",
    "X = zillow.iloc[:,3:].values\n",
    "k = zillow.shape[1]\n",
    "u = zillow.utmX\n",
    "v = zillow.utmY\n",
    "n = zillow.shape[0]\n",
    "coords = np.array(list(zip(u,v)))\n",
    "\n",
    "#Bandwidth searching\n",
    "opt_bw_adap = Sel_BW(coords,y,X).search(verbose=True,pool=pool4)\n",
    "print(\"Optimal Bandwidth:\",opt_bw_adap)\n",
    "\n",
    "#Fitting the model with optimal bandwidth\n",
    "pysal_result_adap=GWR(coords,y,X,opt_bw_adap).fit(pool=pool4)\n",
    "\n",
    "pool4.close() \n",
    "pool4.join()"
   ]
  },
  {
   "cell_type": "markdown",
   "metadata": {},
   "source": [
    "Performance for `fastgwr` with 1 processor"
   ]
  },
  {
   "cell_type": "code",
   "execution_count": 6,
   "metadata": {},
   "outputs": [
    {
     "name": "stdout",
     "output_type": "stream",
     "text": [
      "python: can't open file 'fastgwr/fastgwr_mpi.py': [Errno 2] No such file or directory\n",
      "--------------------------------------------------------------------------\n",
      "Primary job  terminated normally, but 1 process returned\n",
      "a non-zero exit code. Per user-direction, the job has been aborted.\n",
      "--------------------------------------------------------------------------\n",
      "--------------------------------------------------------------------------\n",
      "mpiexec detected that one or more processes exited with non-zero status, thus causing\n",
      "the job to be terminated. The first process to do so was:\n",
      "\n",
      "  Process name: [[50685,1],0]\n",
      "  Exit code:    2\n",
      "--------------------------------------------------------------------------\n"
     ]
    }
   ],
   "source": [
    "!fastgwr run -np 1 -data https://raw.github.com/Ziqi-Li/FastGWR/master/Zillow-test-dataset/zillow_10k.csv -adaptive -constant"
   ]
  },
  {
   "cell_type": "markdown",
   "metadata": {},
   "source": [
    "Performance for `fastgwr` with 4 processors"
   ]
  },
  {
   "cell_type": "code",
   "execution_count": null,
   "metadata": {},
   "outputs": [],
   "source": [
    "!fastgwr run -np 4 -data https://raw.github.com/Ziqi-Li/FastGWR/master/Zillow-test-dataset/zillow_10k.csv -adaptive -constant"
   ]
  }
 ],
 "metadata": {
  "kernelspec": {
   "display_name": "Python 3",
   "language": "python",
   "name": "python3"
  },
  "language_info": {
   "codemirror_mode": {
    "name": "ipython",
    "version": 3
   },
   "file_extension": ".py",
   "mimetype": "text/x-python",
   "name": "python",
   "nbconvert_exporter": "python",
   "pygments_lexer": "ipython3",
   "version": "3.7.6"
  }
 },
 "nbformat": 4,
 "nbformat_minor": 2
}
