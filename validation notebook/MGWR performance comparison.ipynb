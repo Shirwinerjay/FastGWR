{
 "cells": [
  {
   "cell_type": "code",
   "execution_count": 1,
   "metadata": {},
   "outputs": [],
   "source": [
    "import math\n",
    "import sys,os\n",
    "import numpy as np\n",
    "import pandas as pd\n",
    "\n",
    "from mgwr.gwr import GWR,MGWR\n",
    "from mgwr.sel_bw import Sel_BW\n",
    "\n",
    "import multiprocessing as mp"
   ]
  },
  {
   "cell_type": "markdown",
   "metadata": {},
   "source": [
    "Performance for `mgwr` 1 processor"
   ]
  },
  {
   "cell_type": "code",
   "execution_count": 2,
   "metadata": {},
   "outputs": [],
   "source": [
    "pool1=mp.Pool(1)"
   ]
  },
  {
   "cell_type": "code",
   "execution_count": 3,
   "metadata": {
    "scrolled": true
   },
   "outputs": [
    {
     "data": {
      "application/vnd.jupyter.widget-view+json": {
       "model_id": "237aa55e10e7430ab8c5e8b58cfbad6f",
       "version_major": 2,
       "version_minor": 0
      },
      "text/plain": [
       "HBox(children=(FloatProgress(value=0.0, description='Backfitting', max=200.0, style=ProgressStyle(description_…"
      ]
     },
     "metadata": {},
     "output_type": "display_data"
    },
    {
     "name": "stdout",
     "output_type": "stream",
     "text": [
      "Current iteration: 1 ,SOC: 0.0097502\n",
      "Bandwidths: 44.0, 44.0, 44.0, 44.0, 44.0\n",
      "Current iteration: 2 ,SOC: 0.0057024\n",
      "Bandwidths: 44.0, 44.0, 46.0, 48.0, 44.0\n",
      "Current iteration: 3 ,SOC: 0.0041044\n",
      "Bandwidths: 52.0, 46.0, 64.0, 52.0, 70.0\n",
      "Current iteration: 4 ,SOC: 0.0037484\n",
      "Bandwidths: 68.0, 52.0, 104.0, 56.0, 94.0\n",
      "Current iteration: 5 ,SOC: 0.0031054\n",
      "Bandwidths: 99.0, 58.0, 135.0, 56.0, 125.0\n",
      "Current iteration: 6 ,SOC: 0.0025682\n",
      "Bandwidths: 135.0, 58.0, 211.0, 56.0, 166.0\n",
      "Current iteration: 7 ,SOC: 0.002102\n",
      "Bandwidths: 170.0, 58.0, 362.0, 56.0, 280.0\n",
      "Current iteration: 8 ,SOC: 0.0016801\n",
      "Bandwidths: 215.0, 58.0, 530.0, 56.0, 391.0\n",
      "Current iteration: 9 ,SOC: 0.0012613\n",
      "Bandwidths: 230.0, 58.0, 967.0, 56.0, 467.0\n",
      "Current iteration: 10 ,SOC: 0.000911\n",
      "Bandwidths: 244.0, 58.0, 1280.0, 56.0, 566.0\n",
      "Current iteration: 11 ,SOC: 0.001403\n",
      "Bandwidths: 258.0, 96.0, 1534.0, 48.0, 674.0\n",
      "Current iteration: 12 ,SOC: 0.0011094\n",
      "Bandwidths: 258.0, 123.0, 1972.0, 46.0, 716.0\n",
      "Current iteration: 13 ,SOC: 0.0007273\n",
      "Bandwidths: 246.0, 135.0, 1998.0, 46.0, 797.0\n",
      "Current iteration: 14 ,SOC: 0.0005035\n",
      "Bandwidths: 246.0, 135.0, 1998.0, 46.0, 833.0\n",
      "Current iteration: 15 ,SOC: 0.0004129\n",
      "Bandwidths: 244.0, 135.0, 1998.0, 46.0, 935.0\n",
      "Current iteration: 16 ,SOC: 0.0003495\n",
      "Bandwidths: 244.0, 135.0, 1998.0, 46.0, 950.0\n",
      "Current iteration: 17 ,SOC: 0.0002967\n",
      "Bandwidths: 244.0, 135.0, 1998.0, 46.0, 950.0\n",
      "Current iteration: 18 ,SOC: 0.0002563\n",
      "Bandwidths: 244.0, 135.0, 1998.0, 46.0, 950.0\n",
      "Current iteration: 19 ,SOC: 0.0002254\n",
      "Bandwidths: 244.0, 135.0, 1998.0, 46.0, 950.0\n",
      "Current iteration: 20 ,SOC: 0.0002014\n",
      "Bandwidths: 244.0, 135.0, 1998.0, 46.0, 950.0\n",
      "Current iteration: 21 ,SOC: 0.0001824\n",
      "Bandwidths: 244.0, 135.0, 1998.0, 46.0, 942.0\n",
      "Current iteration: 22 ,SOC: 0.0001673\n",
      "Bandwidths: 244.0, 135.0, 1998.0, 46.0, 942.0\n",
      "Current iteration: 23 ,SOC: 0.000155\n",
      "Bandwidths: 244.0, 135.0, 1998.0, 46.0, 942.0\n",
      "Current iteration: 24 ,SOC: 0.0001469\n",
      "Bandwidths: 242.0, 135.0, 1998.0, 46.0, 942.0\n",
      "Current iteration: 25 ,SOC: 0.0001374\n",
      "Bandwidths: 242.0, 135.0, 1998.0, 46.0, 942.0\n",
      "Current iteration: 26 ,SOC: 0.0001296\n",
      "Bandwidths: 242.0, 135.0, 1998.0, 46.0, 942.0\n",
      "Current iteration: 27 ,SOC: 0.0001423\n",
      "Bandwidths: 230.0, 135.0, 1998.0, 46.0, 942.0\n",
      "Current iteration: 28 ,SOC: 0.0001264\n",
      "Bandwidths: 230.0, 135.0, 1998.0, 46.0, 942.0\n",
      "Current iteration: 29 ,SOC: 0.0001176\n",
      "Bandwidths: 230.0, 135.0, 1998.0, 46.0, 942.0\n",
      "Current iteration: 30 ,SOC: 0.000111\n",
      "Bandwidths: 230.0, 135.0, 1998.0, 46.0, 942.0\n",
      "Current iteration: 31 ,SOC: 0.0001056\n",
      "Bandwidths: 230.0, 135.0, 1998.0, 46.0, 950.0\n",
      "Current iteration: 32 ,SOC: 0.0001006\n",
      "Bandwidths: 230.0, 135.0, 1998.0, 46.0, 950.0\n",
      "Current iteration: 33 ,SOC: 9.62e-05\n",
      "Bandwidths: 230.0, 135.0, 1998.0, 46.0, 950.0\n",
      "Current iteration: 34 ,SOC: 9.24e-05\n",
      "Bandwidths: 230.0, 135.0, 1998.0, 46.0, 950.0\n",
      "Current iteration: 35 ,SOC: 8.89e-05\n",
      "Bandwidths: 230.0, 135.0, 1998.0, 46.0, 950.0\n",
      "Current iteration: 36 ,SOC: 8.56e-05\n",
      "Bandwidths: 230.0, 135.0, 1998.0, 46.0, 950.0\n",
      "Current iteration: 37 ,SOC: 8.26e-05\n",
      "Bandwidths: 230.0, 135.0, 1998.0, 46.0, 950.0\n",
      "Current iteration: 38 ,SOC: 7.97e-05\n",
      "Bandwidths: 230.0, 135.0, 1998.0, 46.0, 950.0\n",
      "Current iteration: 39 ,SOC: 7.7e-05\n",
      "Bandwidths: 230.0, 135.0, 1998.0, 46.0, 950.0\n",
      "Current iteration: 40 ,SOC: 7.45e-05\n",
      "Bandwidths: 230.0, 135.0, 1998.0, 46.0, 950.0\n",
      "Current iteration: 41 ,SOC: 7.21e-05\n",
      "Bandwidths: 230.0, 135.0, 1998.0, 46.0, 950.0\n",
      "Current iteration: 42 ,SOC: 6.98e-05\n",
      "Bandwidths: 230.0, 135.0, 1998.0, 46.0, 950.0\n",
      "Current iteration: 43 ,SOC: 6.77e-05\n",
      "Bandwidths: 230.0, 135.0, 1998.0, 46.0, 950.0\n",
      "Current iteration: 44 ,SOC: 6.56e-05\n",
      "Bandwidths: 230.0, 135.0, 1998.0, 46.0, 950.0\n",
      "Current iteration: 45 ,SOC: 6.37e-05\n",
      "Bandwidths: 230.0, 135.0, 1998.0, 46.0, 950.0\n",
      "Current iteration: 46 ,SOC: 6.19e-05\n",
      "Bandwidths: 230.0, 135.0, 1998.0, 46.0, 950.0\n",
      "Current iteration: 47 ,SOC: 6.01e-05\n",
      "Bandwidths: 230.0, 135.0, 1998.0, 46.0, 950.0\n",
      "Current iteration: 48 ,SOC: 5.85e-05\n",
      "Bandwidths: 230.0, 135.0, 1998.0, 46.0, 950.0\n",
      "Current iteration: 49 ,SOC: 5.69e-05\n",
      "Bandwidths: 230.0, 135.0, 1998.0, 46.0, 950.0\n",
      "Current iteration: 50 ,SOC: 5.53e-05\n",
      "Bandwidths: 230.0, 135.0, 1998.0, 46.0, 950.0\n",
      "Current iteration: 51 ,SOC: 5.39e-05\n",
      "Bandwidths: 230.0, 135.0, 1998.0, 46.0, 950.0\n",
      "Current iteration: 52 ,SOC: 5.25e-05\n",
      "Bandwidths: 230.0, 135.0, 1998.0, 46.0, 950.0\n",
      "Current iteration: 53 ,SOC: 5.12e-05\n",
      "Bandwidths: 230.0, 135.0, 1998.0, 46.0, 950.0\n",
      "Current iteration: 54 ,SOC: 4.99e-05\n",
      "Bandwidths: 230.0, 135.0, 1998.0, 46.0, 950.0\n",
      "Current iteration: 55 ,SOC: 4.86e-05\n",
      "Bandwidths: 230.0, 135.0, 1998.0, 46.0, 950.0\n",
      "Current iteration: 56 ,SOC: 4.75e-05\n",
      "Bandwidths: 230.0, 135.0, 1998.0, 46.0, 950.0\n",
      "Current iteration: 57 ,SOC: 4.63e-05\n",
      "Bandwidths: 230.0, 135.0, 1998.0, 46.0, 950.0\n",
      "Current iteration: 58 ,SOC: 4.52e-05\n",
      "Bandwidths: 230.0, 135.0, 1998.0, 46.0, 950.0\n",
      "Current iteration: 59 ,SOC: 4.42e-05\n",
      "Bandwidths: 230.0, 135.0, 1998.0, 46.0, 950.0\n",
      "Current iteration: 60 ,SOC: 4.32e-05\n",
      "Bandwidths: 230.0, 135.0, 1998.0, 46.0, 950.0\n",
      "Current iteration: 61 ,SOC: 4.22e-05\n",
      "Bandwidths: 230.0, 135.0, 1998.0, 46.0, 950.0\n",
      "Current iteration: 62 ,SOC: 4.12e-05\n",
      "Bandwidths: 230.0, 135.0, 1998.0, 46.0, 950.0\n",
      "Current iteration: 63 ,SOC: 4.03e-05\n",
      "Bandwidths: 230.0, 135.0, 1998.0, 46.0, 950.0\n",
      "Current iteration: 64 ,SOC: 3.94e-05\n",
      "Bandwidths: 230.0, 135.0, 1998.0, 46.0, 950.0\n",
      "Current iteration: 65 ,SOC: 3.85e-05\n",
      "Bandwidths: 230.0, 135.0, 1998.0, 46.0, 950.0\n",
      "Current iteration: 66 ,SOC: 3.77e-05\n",
      "Bandwidths: 230.0, 135.0, 1998.0, 46.0, 950.0\n",
      "Current iteration: 67 ,SOC: 3.69e-05\n",
      "Bandwidths: 230.0, 135.0, 1998.0, 46.0, 950.0\n",
      "Current iteration: 68 ,SOC: 3.61e-05\n",
      "Bandwidths: 230.0, 135.0, 1998.0, 46.0, 950.0\n",
      "Current iteration: 69 ,SOC: 3.53e-05\n",
      "Bandwidths: 230.0, 135.0, 1998.0, 46.0, 950.0\n",
      "Current iteration: 70 ,SOC: 3.46e-05\n",
      "Bandwidths: 230.0, 135.0, 1998.0, 46.0, 950.0\n",
      "Current iteration: 71 ,SOC: 3.38e-05\n",
      "Bandwidths: 230.0, 135.0, 1998.0, 46.0, 950.0\n",
      "Current iteration: 72 ,SOC: 3.31e-05\n",
      "Bandwidths: 230.0, 135.0, 1998.0, 46.0, 950.0\n",
      "Current iteration: 73 ,SOC: 3.24e-05\n",
      "Bandwidths: 230.0, 135.0, 1998.0, 46.0, 950.0\n",
      "Current iteration: 74 ,SOC: 3.18e-05\n",
      "Bandwidths: 230.0, 135.0, 1998.0, 46.0, 950.0\n",
      "Current iteration: 75 ,SOC: 3.11e-05\n",
      "Bandwidths: 230.0, 135.0, 1998.0, 46.0, 950.0\n",
      "Current iteration: 76 ,SOC: 3.04e-05\n",
      "Bandwidths: 230.0, 135.0, 1998.0, 46.0, 950.0\n",
      "Current iteration: 77 ,SOC: 2.98e-05\n",
      "Bandwidths: 230.0, 135.0, 1998.0, 46.0, 950.0\n",
      "Current iteration: 78 ,SOC: 2.92e-05\n",
      "Bandwidths: 230.0, 135.0, 1998.0, 46.0, 950.0\n",
      "Current iteration: 79 ,SOC: 2.86e-05\n",
      "Bandwidths: 230.0, 135.0, 1998.0, 46.0, 950.0\n",
      "Current iteration: 80 ,SOC: 2.8e-05\n",
      "Bandwidths: 230.0, 135.0, 1998.0, 46.0, 950.0\n",
      "Current iteration: 81 ,SOC: 2.74e-05\n",
      "Bandwidths: 230.0, 135.0, 1998.0, 46.0, 950.0\n",
      "Current iteration: 82 ,SOC: 2.68e-05\n",
      "Bandwidths: 230.0, 135.0, 1998.0, 46.0, 950.0\n",
      "Current iteration: 83 ,SOC: 2.63e-05\n",
      "Bandwidths: 230.0, 135.0, 1998.0, 46.0, 950.0\n",
      "Current iteration: 84 ,SOC: 2.57e-05\n",
      "Bandwidths: 230.0, 135.0, 1998.0, 46.0, 950.0\n",
      "Current iteration: 85 ,SOC: 2.52e-05\n",
      "Bandwidths: 230.0, 135.0, 1998.0, 46.0, 950.0\n",
      "Current iteration: 86 ,SOC: 2.46e-05\n",
      "Bandwidths: 230.0, 135.0, 1998.0, 46.0, 950.0\n",
      "Current iteration: 87 ,SOC: 2.41e-05\n",
      "Bandwidths: 230.0, 135.0, 1998.0, 46.0, 950.0\n",
      "Current iteration: 88 ,SOC: 2.36e-05\n",
      "Bandwidths: 230.0, 135.0, 1998.0, 46.0, 950.0\n",
      "Current iteration: 89 ,SOC: 2.31e-05\n",
      "Bandwidths: 230.0, 135.0, 1998.0, 46.0, 950.0\n",
      "Current iteration: 90 ,SOC: 2.26e-05\n",
      "Bandwidths: 230.0, 135.0, 1998.0, 46.0, 950.0\n",
      "Current iteration: 91 ,SOC: 2.21e-05\n",
      "Bandwidths: 230.0, 135.0, 1998.0, 46.0, 950.0\n",
      "Current iteration: 92 ,SOC: 2.16e-05\n",
      "Bandwidths: 230.0, 135.0, 1998.0, 46.0, 950.0\n",
      "Current iteration: 93 ,SOC: 2.12e-05\n",
      "Bandwidths: 230.0, 135.0, 1998.0, 46.0, 950.0\n",
      "Current iteration: 94 ,SOC: 2.07e-05\n",
      "Bandwidths: 230.0, 135.0, 1998.0, 46.0, 950.0\n",
      "Current iteration: 95 ,SOC: 2.02e-05\n",
      "Bandwidths: 230.0, 135.0, 1998.0, 46.0, 950.0\n",
      "Current iteration: 96 ,SOC: 1.98e-05\n",
      "Bandwidths: 230.0, 135.0, 1998.0, 46.0, 950.0\n",
      "Current iteration: 97 ,SOC: 1.94e-05\n",
      "Bandwidths: 230.0, 135.0, 1998.0, 46.0, 950.0\n",
      "Current iteration: 98 ,SOC: 1.89e-05\n",
      "Bandwidths: 230.0, 135.0, 1998.0, 46.0, 950.0\n",
      "Current iteration: 99 ,SOC: 1.85e-05\n",
      "Bandwidths: 230.0, 135.0, 1998.0, 46.0, 950.0\n"
     ]
    },
    {
     "name": "stdout",
     "output_type": "stream",
     "text": [
      "Current iteration: 100 ,SOC: 1.81e-05\n",
      "Bandwidths: 230.0, 135.0, 1998.0, 46.0, 950.0\n",
      "Current iteration: 101 ,SOC: 1.77e-05\n",
      "Bandwidths: 230.0, 135.0, 1998.0, 46.0, 950.0\n",
      "Current iteration: 102 ,SOC: 1.73e-05\n",
      "Bandwidths: 230.0, 135.0, 1998.0, 46.0, 950.0\n",
      "Current iteration: 103 ,SOC: 1.69e-05\n",
      "Bandwidths: 230.0, 135.0, 1998.0, 46.0, 950.0\n",
      "Current iteration: 104 ,SOC: 1.65e-05\n",
      "Bandwidths: 230.0, 135.0, 1998.0, 46.0, 950.0\n",
      "Current iteration: 105 ,SOC: 1.61e-05\n",
      "Bandwidths: 230.0, 135.0, 1998.0, 46.0, 950.0\n",
      "Current iteration: 106 ,SOC: 1.57e-05\n",
      "Bandwidths: 230.0, 135.0, 1998.0, 46.0, 950.0\n",
      "Current iteration: 107 ,SOC: 1.54e-05\n",
      "Bandwidths: 230.0, 135.0, 1998.0, 46.0, 950.0\n",
      "Current iteration: 108 ,SOC: 1.5e-05\n",
      "Bandwidths: 230.0, 135.0, 1998.0, 46.0, 950.0\n",
      "Current iteration: 109 ,SOC: 1.46e-05\n",
      "Bandwidths: 230.0, 135.0, 1998.0, 46.0, 950.0\n",
      "Current iteration: 110 ,SOC: 1.43e-05\n",
      "Bandwidths: 230.0, 135.0, 1998.0, 46.0, 950.0\n",
      "Current iteration: 111 ,SOC: 1.39e-05\n",
      "Bandwidths: 230.0, 135.0, 1998.0, 46.0, 950.0\n",
      "Current iteration: 112 ,SOC: 1.36e-05\n",
      "Bandwidths: 230.0, 135.0, 1998.0, 46.0, 950.0\n",
      "Current iteration: 113 ,SOC: 1.33e-05\n",
      "Bandwidths: 230.0, 135.0, 1998.0, 46.0, 950.0\n",
      "Current iteration: 114 ,SOC: 1.29e-05\n",
      "Bandwidths: 230.0, 135.0, 1998.0, 46.0, 950.0\n",
      "Current iteration: 115 ,SOC: 1.26e-05\n",
      "Bandwidths: 230.0, 135.0, 1998.0, 46.0, 950.0\n",
      "Current iteration: 116 ,SOC: 1.23e-05\n",
      "Bandwidths: 230.0, 135.0, 1998.0, 46.0, 950.0\n",
      "Current iteration: 117 ,SOC: 1.2e-05\n",
      "Bandwidths: 230.0, 135.0, 1998.0, 46.0, 950.0\n",
      "Current iteration: 118 ,SOC: 1.17e-05\n",
      "Bandwidths: 230.0, 135.0, 1998.0, 46.0, 950.0\n",
      "Current iteration: 119 ,SOC: 1.14e-05\n",
      "Bandwidths: 230.0, 135.0, 1998.0, 46.0, 950.0\n",
      "Current iteration: 120 ,SOC: 1.11e-05\n",
      "Bandwidths: 230.0, 135.0, 1998.0, 46.0, 950.0\n",
      "Current iteration: 121 ,SOC: 1.08e-05\n",
      "Bandwidths: 230.0, 135.0, 1998.0, 46.0, 950.0\n",
      "Current iteration: 122 ,SOC: 1.05e-05\n",
      "Bandwidths: 230.0, 135.0, 1998.0, 46.0, 950.0\n",
      "Current iteration: 123 ,SOC: 1.02e-05\n",
      "Bandwidths: 230.0, 135.0, 1998.0, 46.0, 950.0\n",
      "Current iteration: 124 ,SOC: 1e-05\n",
      "Bandwidths: 230.0, 135.0, 1998.0, 46.0, 950.0\n"
     ]
    },
    {
     "data": {
      "application/vnd.jupyter.widget-view+json": {
       "model_id": "d02e665f3d954123a8a13fb3e1a30326",
       "version_major": 2,
       "version_minor": 0
      },
      "text/plain": [
       "HBox(children=(FloatProgress(value=0.0, description='Inference', max=1.0, style=ProgressStyle(description_widt…"
      ]
     },
     "metadata": {},
     "output_type": "display_data"
    },
    {
     "name": "stdout",
     "output_type": "stream",
     "text": [
      "\n",
      "CPU times: user 34.1 s, sys: 1.78 s, total: 35.9 s\n",
      "Wall time: 18min 47s\n"
     ]
    }
   ],
   "source": [
    "%%time\n",
    "zillow = pd.read_csv(\"https://raw.github.com/Ziqi-Li/FastGWR/master/Zillow-test-dataset/zillow_2k.csv\",sep=',')\n",
    "y = zillow.value.values.reshape(-1,1)\n",
    "X = zillow.iloc[:,3:].values\n",
    "k = zillow.shape[1]\n",
    "u = zillow.utmX\n",
    "v = zillow.utmY\n",
    "n = zillow.shape[0]\n",
    "coords = np.array(list(zip(u,v)))\n",
    "\n",
    "#Bandwidth searching\n",
    "sel = Sel_BW(coords,y,X,multi=True)\n",
    "sel.search(verbose=True,pool=pool1)\n",
    "\n",
    "#Fitting the model with optimal bandwidth\n",
    "pysal_result=MGWR(coords,y,X,selector=sel).fit(pool=pool1)\n",
    "\n",
    "pool1.close()\n",
    "pool1.join()"
   ]
  },
  {
   "cell_type": "markdown",
   "metadata": {},
   "source": [
    "Performance for `mgwr` 4 processors"
   ]
  },
  {
   "cell_type": "code",
   "execution_count": 4,
   "metadata": {},
   "outputs": [],
   "source": [
    "pool4=mp.Pool(4)"
   ]
  },
  {
   "cell_type": "code",
   "execution_count": null,
   "metadata": {},
   "outputs": [
    {
     "data": {
      "application/vnd.jupyter.widget-view+json": {
       "model_id": "d7b7ee5820d844259f41506a0514aa3b",
       "version_major": 2,
       "version_minor": 0
      },
      "text/plain": [
       "HBox(children=(FloatProgress(value=0.0, description='Backfitting', max=200.0, style=ProgressStyle(description_…"
      ]
     },
     "metadata": {},
     "output_type": "display_data"
    },
    {
     "name": "stdout",
     "output_type": "stream",
     "text": [
      "Current iteration: 1 ,SOC: 0.0047756\n",
      "Bandwidths: 94.0, 44.0, 1492.0, 50.0, 44.0\n",
      "Current iteration: 2 ,SOC: 0.0019795\n",
      "Bandwidths: 167.0, 48.0, 1998.0, 56.0, 44.0\n",
      "Current iteration: 3 ,SOC: 0.0012587\n",
      "Bandwidths: 248.0, 52.0, 1998.0, 56.0, 44.0\n"
     ]
    }
   ],
   "source": [
    "%%time\n",
    "zillow = pd.read_csv(\"https://raw.github.com/Ziqi-Li/FastGWR/master/Zillow-test-dataset/zillow_2k.csv\",sep=',')\n",
    "y = zillow.value.values.reshape(-1,1)\n",
    "X = zillow.iloc[:,3:].values\n",
    "k = zillow.shape[1]\n",
    "u = zillow.utmX\n",
    "v = zillow.utmY\n",
    "n = zillow.shape[0]\n",
    "coords = np.array(list(zip(u,v)))\n",
    "\n",
    "X = (X - np.mean(X,axis=0))/np.std(X, axis=0)\n",
    "y = (y - np.mean(y,axis=0))/np.std(y, axis=0)\n",
    "\n",
    "#Bandwidth searching\n",
    "sel = Sel_BW(coords,y,X,multi=True)\n",
    "sel.search(verbose=True,pool=pool4)\n",
    "\n",
    "#Fitting the model with optimal bandwidth\n",
    "pysal_result=MGWR(coords,y,X,selector=sel).fit(pool=pool4)\n",
    "\n",
    "\n",
    "pool4.close() \n",
    "pool4.join()"
   ]
  },
  {
   "cell_type": "markdown",
   "metadata": {},
   "source": [
    "Performance for `fastgwr` with 1 processor"
   ]
  },
  {
   "cell_type": "code",
   "execution_count": null,
   "metadata": {},
   "outputs": [],
   "source": [
    "!fastgwr --version"
   ]
  },
  {
   "cell_type": "code",
   "execution_count": null,
   "metadata": {},
   "outputs": [],
   "source": [
    "!fastgwr run -np 1 -data https://raw.github.com/Ziqi-Li/FastGWR/master/Zillow-test-dataset/zillow_2k.csv -adaptive -constant -mgwr"
   ]
  },
  {
   "cell_type": "markdown",
   "metadata": {},
   "source": [
    "Performance for `fastgwr` with 4 processors"
   ]
  },
  {
   "cell_type": "code",
   "execution_count": null,
   "metadata": {},
   "outputs": [],
   "source": [
    "!fastgwr run -np 4 -data https://raw.github.com/Ziqi-Li/FastGWR/master/Zillow-test-dataset/zillow_2k.csv -adaptive -constant -mgwr"
   ]
  },
  {
   "cell_type": "code",
   "execution_count": null,
   "metadata": {},
   "outputs": [],
   "source": []
  }
 ],
 "metadata": {
  "kernelspec": {
   "display_name": "Python 3",
   "language": "python",
   "name": "python3"
  },
  "language_info": {
   "codemirror_mode": {
    "name": "ipython",
    "version": 3
   },
   "file_extension": ".py",
   "mimetype": "text/x-python",
   "name": "python",
   "nbconvert_exporter": "python",
   "pygments_lexer": "ipython3",
   "version": "3.7.6"
  }
 },
 "nbformat": 4,
 "nbformat_minor": 2
}
