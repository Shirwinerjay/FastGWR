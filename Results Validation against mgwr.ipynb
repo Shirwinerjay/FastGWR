{
 "cells": [
  {
   "cell_type": "code",
   "execution_count": 1,
   "metadata": {},
   "outputs": [],
   "source": [
    "import math\n",
    "import sys,os\n",
    "import numpy as np\n",
    "import pandas as pd\n",
    "\n",
    "sys.path.append('/Users/Ziqi/Downloads/mgwr/')\n",
    "from gwr.gwr import GWR,GWRResults\n",
    "from gwr.sel_bw import Sel_BW\n",
    "from spglm.family import Gaussian, Poisson, Binomial"
   ]
  },
  {
   "cell_type": "code",
   "execution_count": 2,
   "metadata": {},
   "outputs": [
    {
     "data": {
      "text/html": [
       "<div>\n",
       "<style scoped>\n",
       "    .dataframe tbody tr th:only-of-type {\n",
       "        vertical-align: middle;\n",
       "    }\n",
       "\n",
       "    .dataframe tbody tr th {\n",
       "        vertical-align: top;\n",
       "    }\n",
       "\n",
       "    .dataframe thead th {\n",
       "        text-align: right;\n",
       "    }\n",
       "</style>\n",
       "<table border=\"1\" class=\"dataframe\">\n",
       "  <thead>\n",
       "    <tr style=\"text-align: right;\">\n",
       "      <th></th>\n",
       "      <th>utmX</th>\n",
       "      <th>utmY</th>\n",
       "      <th>value</th>\n",
       "      <th>nbaths</th>\n",
       "      <th>nbeds</th>\n",
       "      <th>area</th>\n",
       "      <th>age</th>\n",
       "    </tr>\n",
       "  </thead>\n",
       "  <tbody>\n",
       "    <tr>\n",
       "      <th>0</th>\n",
       "      <td>379979.957285</td>\n",
       "      <td>3.752562e+06</td>\n",
       "      <td>87.397</td>\n",
       "      <td>2.0</td>\n",
       "      <td>3.0</td>\n",
       "      <td>1311.0</td>\n",
       "      <td>61.0</td>\n",
       "    </tr>\n",
       "    <tr>\n",
       "      <th>1</th>\n",
       "      <td>411210.623578</td>\n",
       "      <td>3.762339e+06</td>\n",
       "      <td>121.211</td>\n",
       "      <td>2.0</td>\n",
       "      <td>4.0</td>\n",
       "      <td>1200.0</td>\n",
       "      <td>62.0</td>\n",
       "    </tr>\n",
       "    <tr>\n",
       "      <th>2</th>\n",
       "      <td>400287.486356</td>\n",
       "      <td>3.743925e+06</td>\n",
       "      <td>76.145</td>\n",
       "      <td>1.0</td>\n",
       "      <td>2.0</td>\n",
       "      <td>724.0</td>\n",
       "      <td>70.0</td>\n",
       "    </tr>\n",
       "    <tr>\n",
       "      <th>3</th>\n",
       "      <td>391029.680899</td>\n",
       "      <td>3.776406e+06</td>\n",
       "      <td>136.320</td>\n",
       "      <td>2.0</td>\n",
       "      <td>3.0</td>\n",
       "      <td>1890.0</td>\n",
       "      <td>54.0</td>\n",
       "    </tr>\n",
       "    <tr>\n",
       "      <th>4</th>\n",
       "      <td>371824.111160</td>\n",
       "      <td>3.750099e+06</td>\n",
       "      <td>100.499</td>\n",
       "      <td>4.0</td>\n",
       "      <td>5.0</td>\n",
       "      <td>2166.0</td>\n",
       "      <td>71.0</td>\n",
       "    </tr>\n",
       "  </tbody>\n",
       "</table>\n",
       "</div>"
      ],
      "text/plain": [
       "            utmX          utmY    value  nbaths  nbeds    area   age\n",
       "0  379979.957285  3.752562e+06   87.397     2.0    3.0  1311.0  61.0\n",
       "1  411210.623578  3.762339e+06  121.211     2.0    4.0  1200.0  62.0\n",
       "2  400287.486356  3.743925e+06   76.145     1.0    2.0   724.0  70.0\n",
       "3  391029.680899  3.776406e+06  136.320     2.0    3.0  1890.0  54.0\n",
       "4  371824.111160  3.750099e+06  100.499     4.0    5.0  2166.0  71.0"
      ]
     },
     "execution_count": 2,
     "metadata": {},
     "output_type": "execute_result"
    }
   ],
   "source": [
    "zillow = pd.read_csv(\"Zillow-test-dataset/zillow_5k.csv\",sep=',')\n",
    "zillow.head()"
   ]
  },
  {
   "cell_type": "code",
   "execution_count": 3,
   "metadata": {},
   "outputs": [],
   "source": [
    "#Converting things into matrices\n",
    "y = zillow.value.as_matrix().reshape(-1,1)\n",
    "X = zillow.iloc[:,3:].as_matrix()\n",
    "k = zillow.shape[1]\n",
    "u = zillow.utmX\n",
    "v = zillow.utmY\n",
    "n = zillow.shape[0]\n",
    "coords = list(zip(u,v))"
   ]
  },
  {
   "cell_type": "code",
   "execution_count": 4,
   "metadata": {},
   "outputs": [
    {
     "name": "stdout",
     "output_type": "stream",
     "text": [
      "CPU times: user 26.4 s, sys: 1.72 s, total: 28.1 s\n",
      "Wall time: 16.7 s\n"
     ]
    }
   ],
   "source": [
    "%%time\n",
    "bw = 500\n",
    "pysal_Result=GWR(coords,y,X,bw).fit()"
   ]
  },
  {
   "cell_type": "code",
   "execution_count": 5,
   "metadata": {},
   "outputs": [
    {
     "name": "stdout",
     "output_type": "stream",
     "text": [
      "Starting FastGWR with 1 Processors\n",
      "Data Input Path: Zillow-test-dataset/zillow_5k.csv\n",
      "Output Result Path: results.csv\n",
      "Constant: True\n",
      "Spatial Kernel: Adaptive Bisquare\n",
      "Fitting GWR Using Bandwidth: 500\n",
      "Diagnostic Information:\n",
      "AICc: 62399.20315246709\n",
      "ENP: 132.5582097758877\n",
      "R2: 0.6986624931885277\n",
      "Total Time Elapsed: 3.09 seconds\n"
     ]
    }
   ],
   "source": [
    "#Running FastGWR 1 Processor\n",
    "!mpiexec -np 1 python fastgwr-mpi.py -data Zillow-test-dataset/zillow_5k.csv -out results.csv -a -c -bw 500"
   ]
  },
  {
   "cell_type": "code",
   "execution_count": 6,
   "metadata": {},
   "outputs": [
    {
     "name": "stdout",
     "output_type": "stream",
     "text": [
      "Starting FastGWR with 2 Processors\n",
      "Data Input Path: Zillow-test-dataset/zillow_5k.csv\n",
      "Output Result Path: results.csv\n",
      "Constant: True\n",
      "Spatial Kernel: Adaptive Bisquare\n",
      "Fitting GWR Using Bandwidth: 500\n",
      "Diagnostic Information:\n",
      "AICc: 62399.20315246709\n",
      "ENP: 132.5582097758877\n",
      "R2: 0.6986624931885277\n",
      "Total Time Elapsed: 1.81 seconds\n"
     ]
    }
   ],
   "source": [
    "#Running FastGWR 2 Processor\n",
    "!mpiexec -np 2 python fastgwr-mpi.py -data Zillow-test-dataset/zillow_5k.csv -out results.csv -a -c -bw 500"
   ]
  },
  {
   "cell_type": "code",
   "execution_count": 7,
   "metadata": {},
   "outputs": [
    {
     "name": "stdout",
     "output_type": "stream",
     "text": [
      "pysal AICc: 62399.20315246711\n",
      "pysal R2: 0.6986624931885264\n"
     ]
    }
   ],
   "source": [
    "print(\"pysal AICc:\", pysal_Result.aicc)\n",
    "print(\"pysal R2:\",pysal_Result.R2)"
   ]
  },
  {
   "cell_type": "code",
   "execution_count": 8,
   "metadata": {},
   "outputs": [
    {
     "data": {
      "text/html": [
       "<div>\n",
       "<style scoped>\n",
       "    .dataframe tbody tr th:only-of-type {\n",
       "        vertical-align: middle;\n",
       "    }\n",
       "\n",
       "    .dataframe tbody tr th {\n",
       "        vertical-align: top;\n",
       "    }\n",
       "\n",
       "    .dataframe thead th {\n",
       "        text-align: right;\n",
       "    }\n",
       "</style>\n",
       "<table border=\"1\" class=\"dataframe\">\n",
       "  <thead>\n",
       "    <tr style=\"text-align: right;\">\n",
       "      <th></th>\n",
       "      <th>index</th>\n",
       "      <th>residual</th>\n",
       "      <th>influ</th>\n",
       "      <th>b_intercept</th>\n",
       "      <th>b_nbaths</th>\n",
       "      <th>b_nbeds</th>\n",
       "      <th>b_area</th>\n",
       "      <th>b_age</th>\n",
       "      <th>se_intercept</th>\n",
       "      <th>se_nbaths</th>\n",
       "      <th>se_nbeds</th>\n",
       "      <th>se_area</th>\n",
       "      <th>se_age</th>\n",
       "    </tr>\n",
       "  </thead>\n",
       "  <tbody>\n",
       "    <tr>\n",
       "      <th>0</th>\n",
       "      <td>0.0</td>\n",
       "      <td>3.512057</td>\n",
       "      <td>0.010853</td>\n",
       "      <td>2.571375</td>\n",
       "      <td>2.978600</td>\n",
       "      <td>5.131739</td>\n",
       "      <td>0.067003</td>\n",
       "      <td>-0.457055</td>\n",
       "      <td>56.283078</td>\n",
       "      <td>18.213311</td>\n",
       "      <td>12.759484</td>\n",
       "      <td>0.029944</td>\n",
       "      <td>0.510628</td>\n",
       "    </tr>\n",
       "    <tr>\n",
       "      <th>1</th>\n",
       "      <td>1.0</td>\n",
       "      <td>72.505994</td>\n",
       "      <td>0.018748</td>\n",
       "      <td>25.630789</td>\n",
       "      <td>11.642206</td>\n",
       "      <td>-25.713499</td>\n",
       "      <td>0.145365</td>\n",
       "      <td>-1.157966</td>\n",
       "      <td>55.370680</td>\n",
       "      <td>16.996824</td>\n",
       "      <td>11.243051</td>\n",
       "      <td>0.017842</td>\n",
       "      <td>0.582930</td>\n",
       "    </tr>\n",
       "    <tr>\n",
       "      <th>2</th>\n",
       "      <td>2.0</td>\n",
       "      <td>37.792773</td>\n",
       "      <td>0.017085</td>\n",
       "      <td>70.665338</td>\n",
       "      <td>5.548814</td>\n",
       "      <td>-6.551175</td>\n",
       "      <td>0.093067</td>\n",
       "      <td>-1.316289</td>\n",
       "      <td>55.458494</td>\n",
       "      <td>16.724264</td>\n",
       "      <td>11.768216</td>\n",
       "      <td>0.021307</td>\n",
       "      <td>0.607088</td>\n",
       "    </tr>\n",
       "    <tr>\n",
       "      <th>3</th>\n",
       "      <td>3.0</td>\n",
       "      <td>-60.409974</td>\n",
       "      <td>0.013437</td>\n",
       "      <td>60.811811</td>\n",
       "      <td>3.897050</td>\n",
       "      <td>-24.768389</td>\n",
       "      <td>0.132632</td>\n",
       "      <td>-0.893417</td>\n",
       "      <td>38.141630</td>\n",
       "      <td>14.479511</td>\n",
       "      <td>10.784798</td>\n",
       "      <td>0.018262</td>\n",
       "      <td>0.347060</td>\n",
       "    </tr>\n",
       "    <tr>\n",
       "      <th>4</th>\n",
       "      <td>4.0</td>\n",
       "      <td>-124.192863</td>\n",
       "      <td>0.072594</td>\n",
       "      <td>-33.406094</td>\n",
       "      <td>14.888397</td>\n",
       "      <td>-15.429987</td>\n",
       "      <td>0.171549</td>\n",
       "      <td>-1.350430</td>\n",
       "      <td>59.658697</td>\n",
       "      <td>14.988391</td>\n",
       "      <td>11.275948</td>\n",
       "      <td>0.019607</td>\n",
       "      <td>0.642205</td>\n",
       "    </tr>\n",
       "  </tbody>\n",
       "</table>\n",
       "</div>"
      ],
      "text/plain": [
       "   index    residual     influ  b_intercept   b_nbaths    b_nbeds    b_area  \\\n",
       "0    0.0    3.512057  0.010853     2.571375   2.978600   5.131739  0.067003   \n",
       "1    1.0   72.505994  0.018748    25.630789  11.642206 -25.713499  0.145365   \n",
       "2    2.0   37.792773  0.017085    70.665338   5.548814  -6.551175  0.093067   \n",
       "3    3.0  -60.409974  0.013437    60.811811   3.897050 -24.768389  0.132632   \n",
       "4    4.0 -124.192863  0.072594   -33.406094  14.888397 -15.429987  0.171549   \n",
       "\n",
       "      b_age  se_intercept  se_nbaths   se_nbeds   se_area    se_age  \n",
       "0 -0.457055     56.283078  18.213311  12.759484  0.029944  0.510628  \n",
       "1 -1.157966     55.370680  16.996824  11.243051  0.017842  0.582930  \n",
       "2 -1.316289     55.458494  16.724264  11.768216  0.021307  0.607088  \n",
       "3 -0.893417     38.141630  14.479511  10.784798  0.018262  0.347060  \n",
       "4 -1.350430     59.658697  14.988391  11.275948  0.019607  0.642205  "
      ]
     },
     "execution_count": 8,
     "metadata": {},
     "output_type": "execute_result"
    }
   ],
   "source": [
    "fastGWR_result = pd.read_csv(\"results.csv\")\n",
    "fastGWR_result.head()"
   ]
  },
  {
   "cell_type": "code",
   "execution_count": 9,
   "metadata": {},
   "outputs": [
    {
     "data": {
      "text/plain": [
       "True"
      ]
     },
     "execution_count": 9,
     "metadata": {},
     "output_type": "execute_result"
    }
   ],
   "source": [
    "#Validate residual\n",
    "np.allclose(fastGWR_result.residual,pysal_Result.resid_response.reshape(-1),atol=1e-4)"
   ]
  },
  {
   "cell_type": "code",
   "execution_count": 10,
   "metadata": {},
   "outputs": [
    {
     "data": {
      "text/plain": [
       "True"
      ]
     },
     "execution_count": 10,
     "metadata": {},
     "output_type": "execute_result"
    }
   ],
   "source": [
    "#Validate Params\n",
    "np.allclose(np.array(fastGWR_result.iloc[:,3:8]),pysal_Result.params,atol=1e-3)"
   ]
  },
  {
   "cell_type": "code",
   "execution_count": 11,
   "metadata": {},
   "outputs": [
    {
     "data": {
      "text/plain": [
       "True"
      ]
     },
     "execution_count": 11,
     "metadata": {},
     "output_type": "execute_result"
    }
   ],
   "source": [
    "#Validate SEs\n",
    "np.allclose(np.array(fastGWR_result.iloc[:,8:13]),pysal_Result.bse,rtol=1e-2)"
   ]
  },
  {
   "cell_type": "code",
   "execution_count": null,
   "metadata": {},
   "outputs": [],
   "source": []
  },
  {
   "cell_type": "code",
   "execution_count": null,
   "metadata": {},
   "outputs": [],
   "source": []
  }
 ],
 "metadata": {
  "kernelspec": {
   "display_name": "Python [conda root]",
   "language": "python",
   "name": "conda-root-py"
  },
  "language_info": {
   "codemirror_mode": {
    "name": "ipython",
    "version": 3
   },
   "file_extension": ".py",
   "mimetype": "text/x-python",
   "name": "python",
   "nbconvert_exporter": "python",
   "pygments_lexer": "ipython3",
   "version": "3.5.4"
  }
 },
 "nbformat": 4,
 "nbformat_minor": 2
}
